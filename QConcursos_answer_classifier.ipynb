{
  "cells": [
    {
      "cell_type": "markdown",
      "metadata": {
        "id": "view-in-github",
        "colab_type": "text"
      },
      "source": [
        "<a href=\"https://colab.research.google.com/github/marcosdiezw/Adaptative_learning_challenge/blob/main/QConcursos_answer_classifier.ipynb\" target=\"_parent\"><img src=\"https://colab.research.google.com/assets/colab-badge.svg\" alt=\"Open In Colab\"/></a>"
      ]
    },
    {
      "cell_type": "markdown",
      "metadata": {
        "id": "NzXuF7bUVRT6"
      },
      "source": [
        "***\n",
        "**<center> <font color=darkblue size=12> Desafio Sigma Geek & QConcursos </font> </center>**\n",
        "***"
      ]
    },
    {
      "cell_type": "markdown",
      "source": [
        "<center>\n",
        "<img src='https://www.estudaqui.com/wp-content/uploads/2021/10/Logo-Estudaqui-normal.png.webp' align=\"middle\" width= \"500\">\n",
        "</center>\n"
      ],
      "metadata": {
        "id": "Sigyg9XZGT-V"
      }
    },
    {
      "cell_type": "markdown",
      "metadata": {
        "id": "mE_vV6Dd2z_U"
      },
      "source": [
        "# **1) Introdução e enunciado**\n",
        "\n",
        "**DataSet**\n",
        "\n",
        "Para esse desafio disponibilizamos dois conjuntos de dados que, reunidos, concentram informações qualitativas dos usuários, informações sobre as questões e sobre o desempenho em cada resolução. Destaca-se ainda que os dados foram anonimizados de modo que é impossível identificar o indivíduo contido no exemplo.\n",
        "\n",
        "**O Desafio**\n",
        "\n",
        "\n",
        "* Os participantes deverão criar um modelo para classificar a resposta à 101ª questão, dado um conjunto de 100 respostas a questões feitas na sequência por 20.000 usuários.\n",
        "\n",
        "* O banco de dados ***Dataset_Model*** contém as respostas de 100 questões respondidas sequencialmente por  20.000 usuários e deverá ser usado para treinar o modelo.\n",
        "\n",
        "* O arquivo ***subjects_question***  contém informações adicionais sobre as perguntas, mapeando as perguntas com assuntos. É importante notar que cada pergunta pode conter mais do que um assunto.\n",
        "\n",
        "* O arquivo ***Submit.csv*** é o arquivo que contém os dados sobre a 101ª questão para cada usuário. Seu modelo deverá fazer o score para a coluna \"Acertou\", contendo \"0\" se não acertou ou \"1\" se acertou.\n",
        "\n",
        "Você deverá submeter um arquivo .csv contendo 20.000 linhas e apenas uma coluna contendo 0's e 1's que o seu modelo calculou.\n",
        "\n",
        "\n",
        "**Método de avaliação**\n",
        "\n",
        "Para esse desafio de classificação vamos adotar o \"F1-Score\" como método de avaliação. Essa métrica pode ser interpretada como uma ponderação entre o “precision\" e o \"recall\", como mostra a fórmula abaixo.\n",
        "\n",
        "\n",
        "<img src=\"https://lh4.googleusercontent.com/oBWBERFg1TRg_6aTrW401Ct8Y5KOLFFNTCpySjccGtdA2lrtYC7ca0XAWeUvBvICxXFMalQQzvNEH85coCf0B5ACYY1yH_h0oenYpq8Q1H9SWwTj1tNb73Kr_-k_SRAIkM1YN3ivPr103vX-6rVFxNtfbReU4mPgwoyMOsFBNzOU_cCTOk4D7iG1\" width=\"300\">"
      ]
    },
    {
      "cell_type": "code",
      "execution_count": 1,
      "metadata": {
        "id": "QgfDmW5e2mMo"
      },
      "outputs": [],
      "source": [
        "# Importando bibliotecas necessárias.\n",
        "import pandas as pd\n",
        "import matplotlib.pyplot as plt\n",
        "import json\n",
        "pd.set_option('max_columns', None)\n",
        "\n",
        "from sklearn.model_selection import train_test_split\n",
        "from sklearn import preprocessing\n",
        "from sklearn.tree import DecisionTreeClassifier\n",
        "from sklearn.ensemble import RandomForestClassifier\n",
        "from sklearn.metrics import f1_score"
      ]
    },
    {
      "cell_type": "markdown",
      "metadata": {
        "id": "U88JjeViu1j4"
      },
      "source": [
        "# **2) Carga de dados**"
      ]
    },
    {
      "cell_type": "code",
      "execution_count": 2,
      "metadata": {
        "id": "c3QoTxRj2tiV",
        "colab": {
          "base_uri": "https://localhost:8080/",
          "height": 360
        },
        "outputId": "c9aa159d-2913-4aa7-876e-3cf6421b9835"
      },
      "outputs": [
        {
          "output_type": "stream",
          "name": "stderr",
          "text": [
            "/usr/local/lib/python3.7/dist-packages/IPython/core/interactiveshell.py:3326: DtypeWarning: Columns (9,10,12) have mixed types.Specify dtype option on import or set low_memory=False.\n",
            "  exec(code_obj, self.user_global_ns, self.user_ns)\n"
          ]
        },
        {
          "output_type": "execute_result",
          "data": {
            "text/plain": [
              "   novo_user_id            city country        device  \\\n",
              "0             1  Rio de Janeiro  Brazil  Apple iPhone   \n",
              "1             1  Rio de Janeiro  Brazil  Apple iPhone   \n",
              "2             1  Rio de Janeiro  Brazil  Apple iPhone   \n",
              "3             1  Rio de Janeiro  Brazil  Apple iPhone   \n",
              "\n",
              "               device_type          os platform          region  \\\n",
              "0  Apple iPhone 11 Pro Max  ios 15.4.1      iOS  Rio de Janeiro   \n",
              "1  Apple iPhone 11 Pro Max  ios 15.4.1      iOS  Rio de Janeiro   \n",
              "2  Apple iPhone 11 Pro Max  ios 15.4.1      iOS  Rio de Janeiro   \n",
              "3  Apple iPhone 11 Pro Max  ios 15.4.1      iOS  Rio de Janeiro   \n",
              "\n",
              "                 gp:carrers gp:college type gp:degree course  \\\n",
              "0  Tribunal, Administrativa             NaN              NaN   \n",
              "1  Tribunal, Administrativa             NaN              NaN   \n",
              "2  Tribunal, Administrativa             NaN              NaN   \n",
              "3  Tribunal, Administrativa             NaN              NaN   \n",
              "\n",
              "  gp:previous experience gp:school type        gp:segment gp:source_project  \\\n",
              "0               beginner            NaN  Concurso Público               ils   \n",
              "1               beginner            NaN  Concurso Público               ils   \n",
              "2               beginner            NaN  Concurso Público               ils   \n",
              "3               beginner            NaN  Concurso Público               ils   \n",
              "\n",
              "   acertou           created_at  row  commented_by_professor  difficulty  \\\n",
              "0        0  2022-03-20 10:06:06    1                     0.0         4.0   \n",
              "1        0  2022-03-20 10:08:25    2                     0.0         4.0   \n",
              "2        1  2022-03-20 10:09:49    3                     0.0         3.0   \n",
              "3        0  2022-03-20 10:10:27    4                     0.0         4.0   \n",
              "\n",
              "   discipline_id  examining_board_id  institute_id  knowledge_area_id  \\\n",
              "0          238.0                73.0        4126.0               13.0   \n",
              "1          238.0                73.0        4126.0               13.0   \n",
              "2          238.0                73.0        4126.0               13.0   \n",
              "3          238.0                73.0        4126.0               13.0   \n",
              "\n",
              "   modality_id  nullified  outdated  product_id  publication_year  \\\n",
              "0          1.0        0.0       0.0         1.0            2022.0   \n",
              "1          1.0        0.0       0.0         1.0            2022.0   \n",
              "2          1.0        0.0       0.0         1.0            2022.0   \n",
              "3          1.0        0.0       0.0         1.0            2022.0   \n",
              "\n",
              "  right_answer  scholarity_id  novo_question_id  subject_id  \n",
              "0            A            2.0            489400         NaN  \n",
              "1            C            2.0            489399         NaN  \n",
              "2            D            2.0            489398         NaN  \n",
              "3            A            2.0            489397         NaN  "
            ],
            "text/html": [
              "\n",
              "  <div id=\"df-8e96fed5-631a-45ee-a59c-668aa75c34e9\">\n",
              "    <div class=\"colab-df-container\">\n",
              "      <div>\n",
              "<style scoped>\n",
              "    .dataframe tbody tr th:only-of-type {\n",
              "        vertical-align: middle;\n",
              "    }\n",
              "\n",
              "    .dataframe tbody tr th {\n",
              "        vertical-align: top;\n",
              "    }\n",
              "\n",
              "    .dataframe thead th {\n",
              "        text-align: right;\n",
              "    }\n",
              "</style>\n",
              "<table border=\"1\" class=\"dataframe\">\n",
              "  <thead>\n",
              "    <tr style=\"text-align: right;\">\n",
              "      <th></th>\n",
              "      <th>novo_user_id</th>\n",
              "      <th>city</th>\n",
              "      <th>country</th>\n",
              "      <th>device</th>\n",
              "      <th>device_type</th>\n",
              "      <th>os</th>\n",
              "      <th>platform</th>\n",
              "      <th>region</th>\n",
              "      <th>gp:carrers</th>\n",
              "      <th>gp:college type</th>\n",
              "      <th>gp:degree course</th>\n",
              "      <th>gp:previous experience</th>\n",
              "      <th>gp:school type</th>\n",
              "      <th>gp:segment</th>\n",
              "      <th>gp:source_project</th>\n",
              "      <th>acertou</th>\n",
              "      <th>created_at</th>\n",
              "      <th>row</th>\n",
              "      <th>commented_by_professor</th>\n",
              "      <th>difficulty</th>\n",
              "      <th>discipline_id</th>\n",
              "      <th>examining_board_id</th>\n",
              "      <th>institute_id</th>\n",
              "      <th>knowledge_area_id</th>\n",
              "      <th>modality_id</th>\n",
              "      <th>nullified</th>\n",
              "      <th>outdated</th>\n",
              "      <th>product_id</th>\n",
              "      <th>publication_year</th>\n",
              "      <th>right_answer</th>\n",
              "      <th>scholarity_id</th>\n",
              "      <th>novo_question_id</th>\n",
              "      <th>subject_id</th>\n",
              "    </tr>\n",
              "  </thead>\n",
              "  <tbody>\n",
              "    <tr>\n",
              "      <th>0</th>\n",
              "      <td>1</td>\n",
              "      <td>Rio de Janeiro</td>\n",
              "      <td>Brazil</td>\n",
              "      <td>Apple iPhone</td>\n",
              "      <td>Apple iPhone 11 Pro Max</td>\n",
              "      <td>ios 15.4.1</td>\n",
              "      <td>iOS</td>\n",
              "      <td>Rio de Janeiro</td>\n",
              "      <td>Tribunal, Administrativa</td>\n",
              "      <td>NaN</td>\n",
              "      <td>NaN</td>\n",
              "      <td>beginner</td>\n",
              "      <td>NaN</td>\n",
              "      <td>Concurso Público</td>\n",
              "      <td>ils</td>\n",
              "      <td>0</td>\n",
              "      <td>2022-03-20 10:06:06</td>\n",
              "      <td>1</td>\n",
              "      <td>0.0</td>\n",
              "      <td>4.0</td>\n",
              "      <td>238.0</td>\n",
              "      <td>73.0</td>\n",
              "      <td>4126.0</td>\n",
              "      <td>13.0</td>\n",
              "      <td>1.0</td>\n",
              "      <td>0.0</td>\n",
              "      <td>0.0</td>\n",
              "      <td>1.0</td>\n",
              "      <td>2022.0</td>\n",
              "      <td>A</td>\n",
              "      <td>2.0</td>\n",
              "      <td>489400</td>\n",
              "      <td>NaN</td>\n",
              "    </tr>\n",
              "    <tr>\n",
              "      <th>1</th>\n",
              "      <td>1</td>\n",
              "      <td>Rio de Janeiro</td>\n",
              "      <td>Brazil</td>\n",
              "      <td>Apple iPhone</td>\n",
              "      <td>Apple iPhone 11 Pro Max</td>\n",
              "      <td>ios 15.4.1</td>\n",
              "      <td>iOS</td>\n",
              "      <td>Rio de Janeiro</td>\n",
              "      <td>Tribunal, Administrativa</td>\n",
              "      <td>NaN</td>\n",
              "      <td>NaN</td>\n",
              "      <td>beginner</td>\n",
              "      <td>NaN</td>\n",
              "      <td>Concurso Público</td>\n",
              "      <td>ils</td>\n",
              "      <td>0</td>\n",
              "      <td>2022-03-20 10:08:25</td>\n",
              "      <td>2</td>\n",
              "      <td>0.0</td>\n",
              "      <td>4.0</td>\n",
              "      <td>238.0</td>\n",
              "      <td>73.0</td>\n",
              "      <td>4126.0</td>\n",
              "      <td>13.0</td>\n",
              "      <td>1.0</td>\n",
              "      <td>0.0</td>\n",
              "      <td>0.0</td>\n",
              "      <td>1.0</td>\n",
              "      <td>2022.0</td>\n",
              "      <td>C</td>\n",
              "      <td>2.0</td>\n",
              "      <td>489399</td>\n",
              "      <td>NaN</td>\n",
              "    </tr>\n",
              "    <tr>\n",
              "      <th>2</th>\n",
              "      <td>1</td>\n",
              "      <td>Rio de Janeiro</td>\n",
              "      <td>Brazil</td>\n",
              "      <td>Apple iPhone</td>\n",
              "      <td>Apple iPhone 11 Pro Max</td>\n",
              "      <td>ios 15.4.1</td>\n",
              "      <td>iOS</td>\n",
              "      <td>Rio de Janeiro</td>\n",
              "      <td>Tribunal, Administrativa</td>\n",
              "      <td>NaN</td>\n",
              "      <td>NaN</td>\n",
              "      <td>beginner</td>\n",
              "      <td>NaN</td>\n",
              "      <td>Concurso Público</td>\n",
              "      <td>ils</td>\n",
              "      <td>1</td>\n",
              "      <td>2022-03-20 10:09:49</td>\n",
              "      <td>3</td>\n",
              "      <td>0.0</td>\n",
              "      <td>3.0</td>\n",
              "      <td>238.0</td>\n",
              "      <td>73.0</td>\n",
              "      <td>4126.0</td>\n",
              "      <td>13.0</td>\n",
              "      <td>1.0</td>\n",
              "      <td>0.0</td>\n",
              "      <td>0.0</td>\n",
              "      <td>1.0</td>\n",
              "      <td>2022.0</td>\n",
              "      <td>D</td>\n",
              "      <td>2.0</td>\n",
              "      <td>489398</td>\n",
              "      <td>NaN</td>\n",
              "    </tr>\n",
              "    <tr>\n",
              "      <th>3</th>\n",
              "      <td>1</td>\n",
              "      <td>Rio de Janeiro</td>\n",
              "      <td>Brazil</td>\n",
              "      <td>Apple iPhone</td>\n",
              "      <td>Apple iPhone 11 Pro Max</td>\n",
              "      <td>ios 15.4.1</td>\n",
              "      <td>iOS</td>\n",
              "      <td>Rio de Janeiro</td>\n",
              "      <td>Tribunal, Administrativa</td>\n",
              "      <td>NaN</td>\n",
              "      <td>NaN</td>\n",
              "      <td>beginner</td>\n",
              "      <td>NaN</td>\n",
              "      <td>Concurso Público</td>\n",
              "      <td>ils</td>\n",
              "      <td>0</td>\n",
              "      <td>2022-03-20 10:10:27</td>\n",
              "      <td>4</td>\n",
              "      <td>0.0</td>\n",
              "      <td>4.0</td>\n",
              "      <td>238.0</td>\n",
              "      <td>73.0</td>\n",
              "      <td>4126.0</td>\n",
              "      <td>13.0</td>\n",
              "      <td>1.0</td>\n",
              "      <td>0.0</td>\n",
              "      <td>0.0</td>\n",
              "      <td>1.0</td>\n",
              "      <td>2022.0</td>\n",
              "      <td>A</td>\n",
              "      <td>2.0</td>\n",
              "      <td>489397</td>\n",
              "      <td>NaN</td>\n",
              "    </tr>\n",
              "  </tbody>\n",
              "</table>\n",
              "</div>\n",
              "      <button class=\"colab-df-convert\" onclick=\"convertToInteractive('df-8e96fed5-631a-45ee-a59c-668aa75c34e9')\"\n",
              "              title=\"Convert this dataframe to an interactive table.\"\n",
              "              style=\"display:none;\">\n",
              "        \n",
              "  <svg xmlns=\"http://www.w3.org/2000/svg\" height=\"24px\"viewBox=\"0 0 24 24\"\n",
              "       width=\"24px\">\n",
              "    <path d=\"M0 0h24v24H0V0z\" fill=\"none\"/>\n",
              "    <path d=\"M18.56 5.44l.94 2.06.94-2.06 2.06-.94-2.06-.94-.94-2.06-.94 2.06-2.06.94zm-11 1L8.5 8.5l.94-2.06 2.06-.94-2.06-.94L8.5 2.5l-.94 2.06-2.06.94zm10 10l.94 2.06.94-2.06 2.06-.94-2.06-.94-.94-2.06-.94 2.06-2.06.94z\"/><path d=\"M17.41 7.96l-1.37-1.37c-.4-.4-.92-.59-1.43-.59-.52 0-1.04.2-1.43.59L10.3 9.45l-7.72 7.72c-.78.78-.78 2.05 0 2.83L4 21.41c.39.39.9.59 1.41.59.51 0 1.02-.2 1.41-.59l7.78-7.78 2.81-2.81c.8-.78.8-2.07 0-2.86zM5.41 20L4 18.59l7.72-7.72 1.47 1.35L5.41 20z\"/>\n",
              "  </svg>\n",
              "      </button>\n",
              "      \n",
              "  <style>\n",
              "    .colab-df-container {\n",
              "      display:flex;\n",
              "      flex-wrap:wrap;\n",
              "      gap: 12px;\n",
              "    }\n",
              "\n",
              "    .colab-df-convert {\n",
              "      background-color: #E8F0FE;\n",
              "      border: none;\n",
              "      border-radius: 50%;\n",
              "      cursor: pointer;\n",
              "      display: none;\n",
              "      fill: #1967D2;\n",
              "      height: 32px;\n",
              "      padding: 0 0 0 0;\n",
              "      width: 32px;\n",
              "    }\n",
              "\n",
              "    .colab-df-convert:hover {\n",
              "      background-color: #E2EBFA;\n",
              "      box-shadow: 0px 1px 2px rgba(60, 64, 67, 0.3), 0px 1px 3px 1px rgba(60, 64, 67, 0.15);\n",
              "      fill: #174EA6;\n",
              "    }\n",
              "\n",
              "    [theme=dark] .colab-df-convert {\n",
              "      background-color: #3B4455;\n",
              "      fill: #D2E3FC;\n",
              "    }\n",
              "\n",
              "    [theme=dark] .colab-df-convert:hover {\n",
              "      background-color: #434B5C;\n",
              "      box-shadow: 0px 1px 3px 1px rgba(0, 0, 0, 0.15);\n",
              "      filter: drop-shadow(0px 1px 2px rgba(0, 0, 0, 0.3));\n",
              "      fill: #FFFFFF;\n",
              "    }\n",
              "  </style>\n",
              "\n",
              "      <script>\n",
              "        const buttonEl =\n",
              "          document.querySelector('#df-8e96fed5-631a-45ee-a59c-668aa75c34e9 button.colab-df-convert');\n",
              "        buttonEl.style.display =\n",
              "          google.colab.kernel.accessAllowed ? 'block' : 'none';\n",
              "\n",
              "        async function convertToInteractive(key) {\n",
              "          const element = document.querySelector('#df-8e96fed5-631a-45ee-a59c-668aa75c34e9');\n",
              "          const dataTable =\n",
              "            await google.colab.kernel.invokeFunction('convertToInteractive',\n",
              "                                                     [key], {});\n",
              "          if (!dataTable) return;\n",
              "\n",
              "          const docLinkHtml = 'Like what you see? Visit the ' +\n",
              "            '<a target=\"_blank\" href=https://colab.research.google.com/notebooks/data_table.ipynb>data table notebook</a>'\n",
              "            + ' to learn more about interactive tables.';\n",
              "          element.innerHTML = '';\n",
              "          dataTable['output_type'] = 'display_data';\n",
              "          await google.colab.output.renderOutput(dataTable, element);\n",
              "          const docLink = document.createElement('div');\n",
              "          docLink.innerHTML = docLinkHtml;\n",
              "          element.appendChild(docLink);\n",
              "        }\n",
              "      </script>\n",
              "    </div>\n",
              "  </div>\n",
              "  "
            ]
          },
          "metadata": {},
          "execution_count": 2
        }
      ],
      "source": [
        "df_questions = pd.read_csv('Dataset_model.csv', sep=',')\n",
        "df_subjects = pd.read_csv('subjects_questions.csv', sep=',')\n",
        "df_submit = pd.read_csv('Submit.csv', sep=';')\n",
        "data = pd.merge(df_questions, df_subjects, how = 'left', on='novo_question_id')\n",
        "data.head(4)"
      ]
    },
    {
      "cell_type": "code",
      "execution_count": 3,
      "metadata": {
        "colab": {
          "base_uri": "https://localhost:8080/"
        },
        "id": "Gvn5m3QD6PO2",
        "outputId": "3154b65a-3053-430f-95cf-f81ac7bbe1b7"
      },
      "outputs": [
        {
          "output_type": "stream",
          "name": "stdout",
          "text": [
            "<class 'pandas.core.frame.DataFrame'>\n",
            "Int64Index: 4557085 entries, 0 to 4557084\n",
            "Data columns (total 33 columns):\n",
            " #   Column                  Non-Null Count    Dtype  \n",
            "---  ------                  --------------    -----  \n",
            " 0   novo_user_id            4557085 non-null  int64  \n",
            " 1   city                    4235236 non-null  object \n",
            " 2   country                 4526376 non-null  object \n",
            " 3   device                  4393789 non-null  object \n",
            " 4   device_type             4189201 non-null  object \n",
            " 5   os                      4526376 non-null  object \n",
            " 6   platform                4526376 non-null  object \n",
            " 7   region                  4525179 non-null  object \n",
            " 8   gp:carrers              4290718 non-null  object \n",
            " 9   gp:college type         5639 non-null     object \n",
            " 10  gp:degree course        5639 non-null     object \n",
            " 11  gp:previous experience  2144655 non-null  object \n",
            " 12  gp:school type          5639 non-null     object \n",
            " 13  gp:segment              4477286 non-null  object \n",
            " 14  gp:source_project       4470568 non-null  object \n",
            " 15  acertou                 4557085 non-null  int64  \n",
            " 16  created_at              4557085 non-null  object \n",
            " 17  row                     4557085 non-null  int64  \n",
            " 18  commented_by_professor  4556907 non-null  float64\n",
            " 19  difficulty              4552416 non-null  float64\n",
            " 20  discipline_id           4556907 non-null  float64\n",
            " 21  examining_board_id      4556900 non-null  float64\n",
            " 22  institute_id            4556900 non-null  float64\n",
            " 23  knowledge_area_id       4556907 non-null  float64\n",
            " 24  modality_id             4556907 non-null  float64\n",
            " 25  nullified               4556907 non-null  float64\n",
            " 26  outdated                4556907 non-null  float64\n",
            " 27  product_id              4556907 non-null  float64\n",
            " 28  publication_year        4556890 non-null  float64\n",
            " 29  right_answer            4556907 non-null  object \n",
            " 30  scholarity_id           4556907 non-null  float64\n",
            " 31  novo_question_id        4557085 non-null  int64  \n",
            " 32  subject_id              4532743 non-null  float64\n",
            "dtypes: float64(13), int64(4), object(16)\n",
            "memory usage: 1.2+ GB\n"
          ]
        }
      ],
      "source": [
        "data.info(verbose=True, show_counts=True)"
      ]
    },
    {
      "cell_type": "code",
      "execution_count": 4,
      "metadata": {
        "colab": {
          "base_uri": "https://localhost:8080/"
        },
        "id": "6RsRWs7JLEMG",
        "outputId": "b50e728c-5eb7-4afa-f7e6-b6ac14d00d22"
      },
      "outputs": [
        {
          "output_type": "stream",
          "name": "stdout",
          "text": [
            "novo_user_id 20000\n",
            "city 1799\n",
            "country 18\n",
            "device 217\n",
            "device_type 394\n",
            "os 231\n",
            "platform 3\n",
            "region 50\n",
            "gp:carrers 1451\n",
            "gp:college type 2\n",
            "gp:degree course 16\n",
            "gp:previous experience 4\n",
            "gp:school type 6\n",
            "gp:segment 4\n",
            "gp:source_project 2\n",
            "acertou 2\n",
            "created_at 1956537\n",
            "row 100\n",
            "commented_by_professor 2\n",
            "difficulty 5\n",
            "discipline_id 225\n",
            "examining_board_id 580\n",
            "institute_id 3099\n",
            "knowledge_area_id 94\n",
            "modality_id 2\n",
            "nullified 2\n",
            "outdated 2\n",
            "product_id 5\n",
            "publication_year 23\n",
            "right_answer 8\n",
            "scholarity_id 3\n",
            "novo_question_id 498263\n",
            "subject_id 9508\n"
          ]
        }
      ],
      "source": [
        "for col in list(data.columns):\n",
        "  print(col, data[col].nunique())"
      ]
    },
    {
      "cell_type": "markdown",
      "metadata": {
        "id": "jwKWaebMVfPr"
      },
      "source": [
        "# **3) Descrição e conhecimento do conjunto de dados**"
      ]
    },
    {
      "cell_type": "markdown",
      "metadata": {
        "id": "I3r2Gb8AdmHX"
      },
      "source": [
        "## **3.1. Descrição das variáveis com até 5 atributos diferentes**"
      ]
    },
    {
      "cell_type": "code",
      "execution_count": 5,
      "metadata": {
        "id": "DU43zHNSUsOK"
      },
      "outputs": [],
      "source": [
        "few_attributes = []\n",
        "for col in list(data.columns):\n",
        "  if data[col].nunique() < 6:\n",
        "    few_attributes.append(col)\n",
        "\n",
        "\n",
        "# Criamos uma função para descrever\n",
        "def describe(variable):\n",
        "  print(variable.upper())\n",
        "  print(f'{(data[col].count()/len(data))*100:.2f}% de valores não faltantes \\n')\n",
        "  print(data[variable].value_counts(1)*100, '\\n');\n",
        "  fig, ax= plt.subplots();\n",
        "  ax = data[variable].value_counts().plot.bar();\n",
        "  ax.set(xlabel=variable);"
      ]
    },
    {
      "cell_type": "code",
      "execution_count": 6,
      "metadata": {
        "colab": {
          "base_uri": "https://localhost:8080/",
          "height": 0
        },
        "id": "nOkoco8kUf0x",
        "outputId": "9837bccb-9448-4c23-d8f3-72184bd941a0"
      },
      "outputs": [
        {
          "output_type": "stream",
          "name": "stdout",
          "text": [
            "PLATFORM\n",
            "99.47% de valores não faltantes \n",
            "\n",
            "Web        80.537255\n",
            "Android    14.102076\n",
            "iOS         5.360668\n",
            "Name: platform, dtype: float64 \n",
            "\n"
          ]
        },
        {
          "output_type": "display_data",
          "data": {
            "text/plain": [
              "<Figure size 432x288 with 1 Axes>"
            ],
            "image/png": "[encoded data removed]"
          },
          "metadata": {
            "needs_background": "light"
          }
        }
      ],
      "source": [
        "describe(few_attributes[0])"
      ]
    },
    {
      "cell_type": "code",
      "execution_count": 7,
      "metadata": {
        "colab": {
          "base_uri": "https://localhost:8080/",
          "height": 0
        },
        "id": "e18pkQJVVlvA",
        "outputId": "b328b49f-5ea1-4d15-965b-47d8772ff98b"
      },
      "outputs": [
        {
          "output_type": "stream",
          "name": "stdout",
          "text": [
            "GP:COLLEGE TYPE\n",
            "99.47% de valores não faltantes \n",
            "\n",
            "[\"Pública\"]    75.829048\n",
            "[\"Privada\"]    24.170952\n",
            "Name: gp:college type, dtype: float64 \n",
            "\n"
          ]
        },
        {
          "output_type": "display_data",
          "data": {
            "text/plain": [
              "<Figure size 432x288 with 1 Axes>"
            ],
            "image/png": "[encoded data removed]"
          },
          "metadata": {
            "needs_background": "light"
          }
        }
      ],
      "source": [
        "describe(few_attributes[1])"
      ]
    },
    {
      "cell_type": "code",
      "execution_count": 8,
      "metadata": {
        "colab": {
          "base_uri": "https://localhost:8080/",
          "height": 0
        },
        "id": "ufjuZA26F3R2",
        "outputId": "1d89fffc-544e-4af5-b2ca-d9c78c544053"
      },
      "outputs": [
        {
          "output_type": "stream",
          "name": "stdout",
          "text": [
            "GP:PREVIOUS EXPERIENCE\n",
            "99.47% de valores não faltantes \n",
            "\n",
            "beginner            57.798294\n",
            "experient           28.560631\n",
            "professional         9.699555\n",
            "highly_experient     3.941520\n",
            "Name: gp:previous experience, dtype: float64 \n",
            "\n"
          ]
        },
        {
          "output_type": "display_data",
          "data": {
            "text/plain": [
              "<Figure size 432x288 with 1 Axes>"
            ],
            "image/png": "[encoded data removed]"
          },
          "metadata": {
            "needs_background": "light"
          }
        }
      ],
      "source": [
        "describe(few_attributes[2])"
      ]
    },
    {
      "cell_type": "code",
      "execution_count": 9,
      "metadata": {
        "colab": {
          "base_uri": "https://localhost:8080/",
          "height": 0
        },
        "id": "v2GPpTK9jku1",
        "outputId": "5532776e-6326-46e7-a6bb-a3819e23003e"
      },
      "outputs": [
        {
          "output_type": "stream",
          "name": "stdout",
          "text": [
            "GP:SEGMENT\n",
            "99.47% de valores não faltantes \n",
            "\n",
            "Concurso Público    96.213688\n",
            "Concurso Militar     3.745171\n",
            "OAB                  0.030264\n",
            "Enem                 0.010877\n",
            "Name: gp:segment, dtype: float64 \n",
            "\n"
          ]
        },
        {
          "output_type": "display_data",
          "data": {
            "text/plain": [
              "<Figure size 432x288 with 1 Axes>"
            ],
            "image/png": "[encoded data removed]"
          },
          "metadata": {
            "needs_background": "light"
          }
        }
      ],
      "source": [
        "describe(few_attributes[3])"
      ]
    },
    {
      "cell_type": "code",
      "execution_count": 10,
      "metadata": {
        "colab": {
          "base_uri": "https://localhost:8080/",
          "height": 0
        },
        "id": "sZhp9qFXWdbT",
        "outputId": "952e0d65-3e00-4c9f-b2a1-7dfd476ccdc9"
      },
      "outputs": [
        {
          "output_type": "stream",
          "name": "stdout",
          "text": [
            "GP:SOURCE_PROJECT\n",
            "99.47% de valores não faltantes \n",
            "\n",
            "odin    88.202841\n",
            "ils     11.797159\n",
            "Name: gp:source_project, dtype: float64 \n",
            "\n"
          ]
        },
        {
          "output_type": "display_data",
          "data": {
            "text/plain": [
              "<Figure size 432x288 with 1 Axes>"
            ],
            "image/png": "[encoded data removed]"
          },
          "metadata": {
            "needs_background": "light"
          }
        }
      ],
      "source": [
        "describe(few_attributes[4])"
      ]
    },
    {
      "cell_type": "code",
      "execution_count": 11,
      "metadata": {
        "colab": {
          "base_uri": "https://localhost:8080/",
          "height": 0
        },
        "id": "vHiONwIjB4cK",
        "outputId": "08a39b8d-2f61-44ea-fd9b-947f42539117"
      },
      "outputs": [
        {
          "output_type": "stream",
          "name": "stdout",
          "text": [
            "ACERTOU\n",
            "99.47% de valores não faltantes \n",
            "\n",
            "1    64.744436\n",
            "0    35.255564\n",
            "Name: acertou, dtype: float64 \n",
            "\n"
          ]
        },
        {
          "output_type": "display_data",
          "data": {
            "text/plain": [
              "<Figure size 432x288 with 1 Axes>"
            ],
            "image/png": "[encoded data removed]"
          },
          "metadata": {
            "needs_background": "light"
          }
        }
      ],
      "source": [
        "describe(few_attributes[5])"
      ]
    },
    {
      "cell_type": "code",
      "execution_count": 12,
      "metadata": {
        "colab": {
          "base_uri": "https://localhost:8080/",
          "height": 0
        },
        "id": "QG4qTPf9A5lW",
        "outputId": "fdad10c2-6803-4383-caf2-834156897808"
      },
      "outputs": [
        {
          "output_type": "stream",
          "name": "stdout",
          "text": [
            "COMMENTED_BY_PROFESSOR\n",
            "99.47% de valores não faltantes \n",
            "\n",
            "1.0    56.522966\n",
            "0.0    43.477034\n",
            "Name: commented_by_professor, dtype: float64 \n",
            "\n"
          ]
        },
        {
          "output_type": "display_data",
          "data": {
            "text/plain": [
              "<Figure size 432x288 with 1 Axes>"
            ],
            "image/png": "[encoded data removed]"
          },
          "metadata": {
            "needs_background": "light"
          }
        }
      ],
      "source": [
        "describe(few_attributes[6])"
      ]
    },
    {
      "cell_type": "code",
      "execution_count": 13,
      "metadata": {
        "colab": {
          "base_uri": "https://localhost:8080/",
          "height": 0
        },
        "id": "BsV9WZss6eDZ",
        "outputId": "ba6c7d11-3259-4f0a-c977-7e8f534c5828"
      },
      "outputs": [
        {
          "output_type": "stream",
          "name": "stdout",
          "text": [
            "DIFFICULTY\n",
            "99.47% de valores não faltantes \n",
            "\n",
            "2.0    40.806969\n",
            "1.0    30.695943\n",
            "3.0    24.108034\n",
            "4.0     4.328932\n",
            "5.0     0.060122\n",
            "Name: difficulty, dtype: float64 \n",
            "\n"
          ]
        },
        {
          "output_type": "display_data",
          "data": {
            "text/plain": [
              "<Figure size 432x288 with 1 Axes>"
            ],
            "image/png": "[encoded data removed]"
          },
          "metadata": {
            "needs_background": "light"
          }
        }
      ],
      "source": [
        "describe(few_attributes[7])"
      ]
    },
    {
      "cell_type": "code",
      "execution_count": 14,
      "metadata": {
        "colab": {
          "base_uri": "https://localhost:8080/",
          "height": 0
        },
        "id": "sIQFlANOWvZi",
        "outputId": "d2498093-a8a9-40b8-cc71-da5f28b0a373"
      },
      "outputs": [
        {
          "output_type": "stream",
          "name": "stdout",
          "text": [
            "MODALITY_ID\n",
            "99.47% de valores não faltantes \n",
            "\n",
            "1.0    76.887722\n",
            "2.0    23.112278\n",
            "Name: modality_id, dtype: float64 \n",
            "\n"
          ]
        },
        {
          "output_type": "display_data",
          "data": {
            "text/plain": [
              "<Figure size 432x288 with 1 Axes>"
            ],
            "image/png": "[encoded data removed]"
          },
          "metadata": {
            "needs_background": "light"
          }
        }
      ],
      "source": [
        "describe(few_attributes[8])"
      ]
    },
    {
      "cell_type": "code",
      "execution_count": 15,
      "metadata": {
        "colab": {
          "base_uri": "https://localhost:8080/",
          "height": 0
        },
        "id": "ecFNQOJQWyIG",
        "outputId": "36ff59d7-75e7-41f0-8751-2df03103f77e"
      },
      "outputs": [
        {
          "output_type": "stream",
          "name": "stdout",
          "text": [
            "NULLIFIED\n",
            "99.47% de valores não faltantes \n",
            "\n",
            "0.0    99.732165\n",
            "1.0     0.267835\n",
            "Name: nullified, dtype: float64 \n",
            "\n"
          ]
        },
        {
          "output_type": "display_data",
          "data": {
            "text/plain": [
              "<Figure size 432x288 with 1 Axes>"
            ],
            "image/png": "[encoded data removed]"
          },
          "metadata": {
            "needs_background": "light"
          }
        }
      ],
      "source": [
        "describe(few_attributes[9])"
      ]
    },
    {
      "cell_type": "code",
      "execution_count": 16,
      "metadata": {
        "colab": {
          "base_uri": "https://localhost:8080/",
          "height": 0
        },
        "id": "QR_vi6PJcvdc",
        "outputId": "dc28be22-bae4-46bc-df94-73e9be552159"
      },
      "outputs": [
        {
          "output_type": "stream",
          "name": "stdout",
          "text": [
            "OUTDATED\n",
            "99.47% de valores não faltantes \n",
            "\n",
            "0.0    98.069875\n",
            "1.0     1.930125\n",
            "Name: outdated, dtype: float64 \n",
            "\n"
          ]
        },
        {
          "output_type": "display_data",
          "data": {
            "text/plain": [
              "<Figure size 432x288 with 1 Axes>"
            ],
            "image/png": "[encoded data removed]"
          },
          "metadata": {
            "needs_background": "light"
          }
        }
      ],
      "source": [
        "describe(few_attributes[10])"
      ]
    },
    {
      "cell_type": "code",
      "execution_count": 17,
      "metadata": {
        "colab": {
          "base_uri": "https://localhost:8080/",
          "height": 0
        },
        "id": "F2tD8aXlczYH",
        "outputId": "1d47cda8-5e27-40bd-83e7-df534990dd5e"
      },
      "outputs": [
        {
          "output_type": "stream",
          "name": "stdout",
          "text": [
            "PRODUCT_ID\n",
            "99.47% de valores não faltantes \n",
            "\n",
            "1.0    91.742184\n",
            "5.0     5.498313\n",
            "7.0     2.227981\n",
            "3.0     0.318813\n",
            "9.0     0.212710\n",
            "Name: product_id, dtype: float64 \n",
            "\n"
          ]
        },
        {
          "output_type": "display_data",
          "data": {
            "text/plain": [
              "<Figure size 432x288 with 1 Axes>"
            ],
            "image/png": "[encoded data removed]"
          },
          "metadata": {
            "needs_background": "light"
          }
        }
      ],
      "source": [
        "describe(few_attributes[11])"
      ]
    },
    {
      "cell_type": "code",
      "execution_count": 18,
      "metadata": {
        "colab": {
          "base_uri": "https://localhost:8080/",
          "height": 0
        },
        "id": "fYJSoxxuc1-Y",
        "outputId": "14842b6a-d16d-4813-b744-c48109b01281"
      },
      "outputs": [
        {
          "output_type": "stream",
          "name": "stdout",
          "text": [
            "SCHOLARITY_ID\n",
            "99.47% de valores não faltantes \n",
            "\n",
            "3.0    66.889647\n",
            "2.0    31.029073\n",
            "1.0     2.081280\n",
            "Name: scholarity_id, dtype: float64 \n",
            "\n"
          ]
        },
        {
          "output_type": "display_data",
          "data": {
            "text/plain": [
              "<Figure size 432x288 with 1 Axes>"
            ],
            "image/png": "[encoded data removed]"
          },
          "metadata": {
            "needs_background": "light"
          }
        }
      ],
      "source": [
        "describe(few_attributes[12])"
      ]
    },
    {
      "cell_type": "markdown",
      "metadata": {
        "id": "d86fgS2VevO3"
      },
      "source": [
        "## **3.2. Descrição de variáveis com mais de 5 atributos**"
      ]
    },
    {
      "cell_type": "code",
      "execution_count": 19,
      "metadata": {
        "id": "AGrI8vDFe1u9"
      },
      "outputs": [],
      "source": [
        "many_attributes = []\n",
        "for col in list(data.columns):\n",
        "  if data[col].nunique() >= 5:\n",
        "    many_attributes.append(col)"
      ]
    },
    {
      "cell_type": "code",
      "execution_count": 20,
      "metadata": {
        "colab": {
          "base_uri": "https://localhost:8080/"
        },
        "id": "G9Js1prJfEvV",
        "outputId": "5f9f314a-bf04-4c1f-c97c-7a2aea997717"
      },
      "outputs": [
        {
          "output_type": "execute_result",
          "data": {
            "text/plain": [
              "['novo_user_id',\n",
              " 'city',\n",
              " 'country',\n",
              " 'device',\n",
              " 'device_type',\n",
              " 'os',\n",
              " 'region',\n",
              " 'gp:carrers',\n",
              " 'gp:degree course',\n",
              " 'gp:school type',\n",
              " 'created_at',\n",
              " 'row',\n",
              " 'difficulty',\n",
              " 'discipline_id',\n",
              " 'examining_board_id',\n",
              " 'institute_id',\n",
              " 'knowledge_area_id',\n",
              " 'product_id',\n",
              " 'publication_year',\n",
              " 'right_answer',\n",
              " 'novo_question_id',\n",
              " 'subject_id']"
            ]
          },
          "metadata": {},
          "execution_count": 20
        }
      ],
      "source": [
        "many_attributes"
      ]
    },
    {
      "cell_type": "code",
      "execution_count": 21,
      "metadata": {
        "colab": {
          "base_uri": "https://localhost:8080/"
        },
        "id": "yqETItOffXr4",
        "outputId": "a9fbe0e2-c91c-4075-b51a-58806f84398a"
      },
      "outputs": [
        {
          "output_type": "stream",
          "name": "stdout",
          "text": [
            "NOVO_USER_ID -- 20000 valores/atributos diferentes. \n",
            "\n",
            "100.00% de valores não faltantes \n",
            "\n",
            "5581     0.015185\n",
            "11554    0.013452\n",
            "10479    0.013057\n",
            "18997    0.012442\n",
            "11608    0.012267\n",
            "19315    0.011630\n",
            "9677     0.011411\n",
            "8522     0.011389\n",
            "18015    0.010994\n",
            "4890     0.010994\n",
            "Name: novo_user_id, dtype: float64\n",
            "------------------------------------------------------------------- \n",
            "\n",
            "CITY -- 1799 valores/atributos diferentes. \n",
            "\n",
            "92.94% de valores não faltantes \n",
            "\n",
            "Brasília          8.959997\n",
            "Rio de Janeiro    5.961108\n",
            "São Paulo         5.788178\n",
            "Fortaleza         3.731646\n",
            "Manaus            2.655531\n",
            "Belo Horizonte    2.360364\n",
            "Salvador          2.151498\n",
            "Recife            2.001329\n",
            "Goiânia           1.970020\n",
            "Porto Alegre      1.642553\n",
            "Name: city, dtype: float64\n",
            "------------------------------------------------------------------- \n",
            "\n",
            "COUNTRY -- 18 valores/atributos diferentes. \n",
            "\n",
            "99.33% de valores não faltantes \n",
            "\n",
            "Brazil           99.844224\n",
            "United States     0.038397\n",
            "Portugal          0.016636\n",
            "Switzerland       0.013344\n",
            "Argentina         0.011091\n",
            "Spain             0.009986\n",
            "Netherlands       0.009345\n",
            "Australia         0.008771\n",
            "Angola            0.006473\n",
            "Sweden            0.005722\n",
            "Name: country, dtype: float64\n",
            "------------------------------------------------------------------- \n",
            "\n",
            "DEVICE -- 217 valores/atributos diferentes. \n",
            "\n",
            "96.42% de valores não faltantes \n",
            "\n",
            "Windows                 59.355354\n",
            "Apple iPhone             8.537460\n",
            "Samsung Phone            6.735121\n",
            "Motorola Phone           5.257694\n",
            "Samsung Galaxy Phone     4.816754\n",
            "Mac                      2.427358\n",
            "Samsung Tablet           2.128846\n",
            "Redmi Phone              1.951186\n",
            "Xiaomi Phone             1.655428\n",
            "Apple iPad               0.789342\n",
            "Name: device, dtype: float64\n",
            "------------------------------------------------------------------- \n",
            "\n",
            "DEVICE_TYPE -- 394 valores/atributos diferentes. \n",
            "\n",
            "91.93% de valores não faltantes \n",
            "\n",
            "Windows                       62.254091\n",
            "Mac                            2.545903\n",
            "Apple iPhone                   2.301035\n",
            "Apple iPhone 11                1.329872\n",
            "Samsung Galaxy Tab S6 Lite     0.850592\n",
            "Linux                          0.766089\n",
            "Apple iPhone XR                0.743316\n",
            "Samsung Galaxy S20 FE          0.696696\n",
            "Apple iPhone 8 Plus            0.535209\n",
            "Samsung Galaxy A32             0.484006\n",
            "Name: device_type, dtype: float64\n",
            "------------------------------------------------------------------- \n",
            "\n",
            "OS -- 231 valores/atributos diferentes. \n",
            "\n",
            "99.33% de valores não faltantes \n",
            "\n",
            "Chrome 103    24.382398\n",
            "Chrome 104    21.868488\n",
            "Chrome 102     6.360519\n",
            "android 11     5.195901\n",
            "android 10     3.323166\n",
            "Chrome 101     3.322216\n",
            "android 12     3.184954\n",
            "Edge 104       2.524271\n",
            "Chrome 100     2.502642\n",
            "ios 15.5       2.182342\n",
            "Name: os, dtype: float64\n",
            "------------------------------------------------------------------- \n",
            "\n",
            "REGION -- 50 valores/atributos diferentes. \n",
            "\n",
            "99.30% de valores não faltantes \n",
            "\n",
            "Sao Paulo            12.661378\n",
            "Rio de Janeiro       10.254821\n",
            "Federal District      9.009787\n",
            "Minas Gerais          7.831933\n",
            "Ceara                 6.096864\n",
            "Bahia                 6.025706\n",
            "Pernambuco            5.345579\n",
            "Rio Grande do Sul     4.634314\n",
            "Goias                 4.619066\n",
            "Parana                3.207475\n",
            "Name: region, dtype: float64\n",
            "------------------------------------------------------------------- \n",
            "\n",
            "GP:CARRERS -- 1451 valores/atributos diferentes. \n",
            "\n",
            "94.15% de valores não faltantes \n",
            "\n",
            "Policial              25.818336\n",
            "Jurídica               9.044081\n",
            "Outras                 7.297846\n",
            "Tribunal               6.508048\n",
            "Administrativa         4.445620\n",
            "Educação               3.351677\n",
            "Saúde                  3.160170\n",
            "Tribunal, Jurídica     2.966217\n",
            "Fiscal                 2.366667\n",
            "Policial, Jurídica     1.585306\n",
            "Name: gp:carrers, dtype: float64\n",
            "------------------------------------------------------------------- \n",
            "\n",
            "GP:DEGREE COURSE -- 16 valores/atributos diferentes. \n",
            "\n",
            "0.12% de valores não faltantes \n",
            "\n",
            "[\"ADMINISTRACAO\"]                                             27.646746\n",
            "[\"DIREITO\"]                                                   10.977124\n",
            "[\"MEDICINA\"]                                                   8.051073\n",
            "[\"ENFERMAGEM\",\"MEDICINA\",\"ODONTOLOGIA\"]                        5.923036\n",
            "[\"ENFERMAGEM\"]                                                 4.788083\n",
            "[\"ADMINISTRACAO\",\"PEDAGOGIA\",\"LETRAS - LINGUA PORTUGUESA\"]     4.557546\n",
            "[\"CIENCIAS CONTABEIS\"]                                         4.433410\n",
            "[\"ADMINISTRACAO\",\"ANALISE E DESENVOLVIMENTO DE SISTEMAS\"]      4.380209\n",
            "[\"ANALISE E DESENVOLVIMENTO DE SISTEMAS\"]                      4.291541\n",
            "[\"ODONTOLOGIA\"]                                                3.901401\n",
            "Name: gp:degree course, dtype: float64\n",
            "------------------------------------------------------------------- \n",
            "\n",
            "GP:SCHOOL TYPE -- 6 valores/atributos diferentes. \n",
            "\n",
            "0.12% de valores não faltantes \n",
            "\n",
            "[\"Escola Pública\"]                                      42.046462\n",
            "[\"Estudo por conta própria\"]                            24.224153\n",
            "[\"Cursinho Preparatório\"]                               12.360348\n",
            "[\"Escola Privada\"]                                      11.633268\n",
            "[\"Estudo por conta própria\",\"Cursinho Preparatório\"]     5.923036\n",
            "[\"Escola Privada\",\"Escola Pública\"]                      3.812733\n",
            "Name: gp:school type, dtype: float64\n",
            "------------------------------------------------------------------- \n",
            "\n",
            "CREATED_AT -- 1956537 valores/atributos diferentes. \n",
            "\n",
            "100.00% de valores não faltantes \n",
            "\n",
            "2021-03-02 14:11:25    0.005881\n",
            "2022-04-05 15:26:47    0.004915\n",
            "2022-02-22 14:33:25    0.004828\n",
            "2021-04-21 17:06:34    0.004279\n",
            "2022-01-09 12:34:42    0.004257\n",
            "2022-04-02 18:11:28    0.004235\n",
            "2021-04-27 22:41:24    0.004125\n",
            "2021-09-06 21:28:33    0.004060\n",
            "2022-01-11 03:42:21    0.003774\n",
            "2021-10-11 19:07:27    0.003709\n",
            "Name: created_at, dtype: float64\n",
            "------------------------------------------------------------------- \n",
            "\n",
            "ROW -- 100 valores/atributos diferentes. \n",
            "\n",
            "100.00% de valores não faltantes \n",
            "\n",
            "100    1.009593\n",
            "28     1.009176\n",
            "29     1.008320\n",
            "99     1.007706\n",
            "52     1.007618\n",
            "25     1.007552\n",
            "98     1.007464\n",
            "36     1.007442\n",
            "26     1.006740\n",
            "64     1.006301\n",
            "Name: row, dtype: float64\n",
            "------------------------------------------------------------------- \n",
            "\n",
            "DIFFICULTY -- 5 valores/atributos diferentes. \n",
            "\n",
            "99.90% de valores não faltantes \n",
            "\n",
            "2.0    40.806969\n",
            "1.0    30.695943\n",
            "3.0    24.108034\n",
            "4.0     4.328932\n",
            "5.0     0.060122\n",
            "Name: difficulty, dtype: float64\n",
            "------------------------------------------------------------------- \n",
            "\n",
            "DISCIPLINE_ID -- 225 valores/atributos diferentes. \n",
            "\n",
            "100.00% de valores não faltantes \n",
            "\n",
            "1.0     18.626933\n",
            "3.0     12.162614\n",
            "9.0     10.431396\n",
            "2.0      9.968275\n",
            "10.0     4.744073\n",
            "Name: discipline_id, dtype: float64\n",
            "------------------------------------------------------------------- \n",
            "\n",
            "EXAMINING_BOARD_ID -- 580 valores/atributos diferentes. \n",
            "\n",
            "100.00% de valores não faltantes \n",
            "\n",
            "2.0       28.745222\n",
            "1.0        9.198424\n",
            "63.0       8.606158\n",
            "152.0      8.418793\n",
            "189.0      2.789528\n",
            "            ...    \n",
            "3771.0     0.000044\n",
            "2637.0     0.000044\n",
            "324.0      0.000044\n",
            "409.0      0.000044\n",
            "2452.0     0.000044\n",
            "Name: examining_board_id, Length: 580, dtype: float64\n",
            "------------------------------------------------------------------- \n",
            "\n",
            "INSTITUTE_ID -- 3099 valores/atributos diferentes. \n",
            "\n",
            "100.00% de valores não faltantes \n",
            "\n",
            "6152.0    2.070947\n",
            "36.0      1.738726\n",
            "5713.0    1.388290\n",
            "123.0     1.310825\n",
            "6281.0    1.060941\n",
            "            ...   \n",
            "3185.0    0.044592\n",
            "6045.0    0.044548\n",
            "1038.0    0.044175\n",
            "5670.0    0.044131\n",
            "10.0      0.043846\n",
            "Name: institute_id, Length: 483, dtype: float64\n",
            "------------------------------------------------------------------- \n",
            "\n",
            "KNOWLEDGE_AREA_ID -- 94 valores/atributos diferentes. \n",
            "\n",
            "100.00% de valores não faltantes \n",
            "\n",
            "9.0     55.336920\n",
            "14.0    19.248846\n",
            "13.0     5.005040\n",
            "15.0     3.085580\n",
            "2.0      2.891457\n",
            "16.0     1.738197\n",
            "53.0     1.588929\n",
            "7.0      1.230703\n",
            "11.0     1.202482\n",
            "25.0     0.979239\n",
            "3.0      0.688340\n",
            "17.0     0.627443\n",
            "19.0     0.497596\n",
            "36.0     0.482323\n",
            "29.0     0.450503\n",
            "10.0     0.413614\n",
            "Name: knowledge_area_id, dtype: float64\n",
            "------------------------------------------------------------------- \n",
            "\n",
            "PRODUCT_ID -- 5 valores/atributos diferentes. \n",
            "\n",
            "100.00% de valores não faltantes \n",
            "\n",
            "1.0    91.742184\n",
            "5.0     5.498313\n",
            "7.0     2.227981\n",
            "3.0     0.318813\n",
            "9.0     0.212710\n",
            "Name: product_id, dtype: float64\n",
            "------------------------------------------------------------------- \n",
            "\n",
            "PUBLICATION_YEAR -- 23 valores/atributos diferentes. \n",
            "\n",
            "100.00% de valores não faltantes \n",
            "\n",
            "2018.0    16.119042\n",
            "2019.0    15.580560\n",
            "2021.0    11.022803\n",
            "2017.0     9.878272\n",
            "2016.0     8.297567\n",
            "2015.0     6.205416\n",
            "2014.0     5.487800\n",
            "2020.0     5.433750\n",
            "2013.0     4.909686\n",
            "2022.0     3.872312\n",
            "2012.0     3.381495\n",
            "2010.0     2.355971\n",
            "2011.0     1.775860\n",
            "2009.0     1.563676\n",
            "2008.0     1.347037\n",
            "2007.0     0.736160\n",
            "2003.0     0.606839\n",
            "2006.0     0.528694\n",
            "2004.0     0.503765\n",
            "2005.0     0.260924\n",
            "2002.0     0.084290\n",
            "2000.0     0.039588\n",
            "2001.0     0.008493\n",
            "Name: publication_year, dtype: float64\n",
            "------------------------------------------------------------------- \n",
            "\n",
            "RIGHT_ANSWER -- 8 valores/atributos diferentes. \n",
            "\n",
            "100.00% de valores não faltantes \n",
            "\n",
            "C    28.027827\n",
            "E    23.067642\n",
            "D    16.384425\n",
            "A    16.321619\n",
            "B    16.196973\n",
            "X     0.001448\n",
            "*     0.000044\n",
            "+     0.000022\n",
            "Name: right_answer, dtype: float64\n",
            "------------------------------------------------------------------- \n",
            "\n",
            "NOVO_QUESTION_ID -- 498263 valores/atributos diferentes. \n",
            "\n",
            "100.00% de valores não faltantes \n",
            "\n",
            "289182    0.033047\n",
            "289169    0.028878\n",
            "289176    0.026859\n",
            "311243    0.024489\n",
            "289192    0.023699\n",
            "311129    0.023502\n",
            "226307    0.023041\n",
            "175675    0.022646\n",
            "283336    0.022580\n",
            "295521    0.021066\n",
            "Name: novo_question_id, dtype: float64\n",
            "------------------------------------------------------------------- \n",
            "\n",
            "SUBJECT_ID -- 9508 valores/atributos diferentes. \n",
            "\n",
            "99.47% de valores não faltantes \n",
            "\n",
            "14655.0    2.826456\n",
            "16006.0    1.472331\n",
            "19271.0    1.191045\n",
            "14621.0    1.137104\n",
            "14625.0    1.048592\n",
            "             ...   \n",
            "731.0      0.147681\n",
            "18556.0    0.147350\n",
            "16306.0    0.146446\n",
            "16977.0    0.146115\n",
            "10.0       0.145431\n",
            "Name: subject_id, Length: 114, dtype: float64\n",
            "------------------------------------------------------------------- \n",
            "\n"
          ]
        }
      ],
      "source": [
        "for col in many_attributes:\n",
        "  print(f'{col.upper()} -- {data[col].nunique()} valores/atributos diferentes. \\n');\n",
        "  print(f'{(data[col].count()/len(data))*100:.2f}% de valores não faltantes \\n')\n",
        "  if data[col].nunique()>0 and data[col].nunique() <10:\n",
        "    print((data[col].value_counts(1)*100));\n",
        "  else:\n",
        "    try:\n",
        "      print((data[col].value_counts(1)*100)[:10])\n",
        "    except KeyError:\n",
        "      print((data[col].value_counts(1)*100))\n",
        "  print('------------------------------------------------------------------- \\n')"
      ]
    },
    {
      "cell_type": "code",
      "source": [],
      "metadata": {
        "id": "DExZ2IXB9HZy"
      },
      "execution_count": 21,
      "outputs": []
    },
    {
      "cell_type": "markdown",
      "metadata": {
        "id": "wE-SS6wJ0-SH"
      },
      "source": [
        "# **4) Remoção de variáveis pouco relevantes ou pouco representativas**"
      ]
    },
    {
      "cell_type": "code",
      "execution_count": 5,
      "metadata": {
        "id": "-39X6H5Y09MM"
      },
      "outputs": [],
      "source": [
        "# Estabelecendo um mínimo de 40% de valores não nulos para cada variável\n",
        "min_number_columns = 0.4*len(data)\n",
        "\n",
        "# Armazenando as colunas que tem mais do 40% de valores nulos\n",
        "null_columns  = []\n",
        "for col in data.columns:\n",
        "  if data[col].count() <= min_number_columns:\n",
        "    null_columns.append(col)\n",
        "\n",
        "# Armazenando as colunas que tem valores ou atributos muito desbalanceadas\n",
        "unbalanced_columns=[]\n",
        "for col in data.columns:\n",
        "  try:\n",
        "    if data[col].value_counts(1)[0] > 0.9:\n",
        "      unbalanced_columns.append(col)\n",
        "  except KeyError:\n",
        "    None\n",
        "\n",
        "# Removendo do DataFrame as colunas com valores constantes e\n",
        "# as que tem demais valores nulos.\n",
        "data1 = data.drop(columns= null_columns + unbalanced_columns)"
      ]
    },
    {
      "cell_type": "code",
      "execution_count": 6,
      "metadata": {
        "colab": {
          "base_uri": "https://localhost:8080/"
        },
        "id": "HmZO1bDYCYde",
        "outputId": "92a4f3c4-aba4-4e19-91e8-200ffd3f01c8"
      },
      "outputs": [
        {
          "output_type": "execute_result",
          "data": {
            "text/plain": [
              "Index(['novo_user_id', 'city', 'device', 'device_type', 'os', 'platform',\n",
              "       'region', 'gp:carrers', 'gp:previous experience', 'gp:source_project',\n",
              "       'acertou', 'created_at', 'row', 'commented_by_professor', 'difficulty',\n",
              "       'discipline_id', 'examining_board_id', 'institute_id',\n",
              "       'knowledge_area_id', 'modality_id', 'product_id', 'publication_year',\n",
              "       'right_answer', 'scholarity_id', 'novo_question_id', 'subject_id'],\n",
              "      dtype='object')"
            ]
          },
          "metadata": {},
          "execution_count": 6
        }
      ],
      "source": [
        "data1.columns"
      ]
    },
    {
      "cell_type": "markdown",
      "metadata": {
        "id": "WNzA8DQJUW7x"
      },
      "source": [
        "# **5) Tratamento de variáveis**"
      ]
    },
    {
      "cell_type": "code",
      "execution_count": 7,
      "metadata": {
        "id": "oh-mJt3QUoZN"
      },
      "outputs": [],
      "source": [
        "data2 = data1.copy()\n",
        "\n",
        "# Estabelecendo dicionários para agrupar atributos.\n",
        "\n",
        "dict_source = {'odin':1, 'ils':0}\n",
        "dict_platform = {'Web':2, 'Android':1, 'iOS':0}\n",
        "dict_prev_experience = {'beginner':0,\n",
        "                        'experient':1,\n",
        "                        'highly_experient':2,\n",
        "                        'professional':3 }\n",
        "\n",
        "# Atribuindo números em atributos.\n",
        "data2['gp:source_project'] = data1['gp:source_project'].map(dict_source)\n",
        "\n",
        "def encode_5(value):\n",
        "  return value - 2000\n",
        "\n",
        "data2['publication_year'] = data1['publication_year'].apply(lambda s: encode_5(s))"
      ]
    },
    {
      "cell_type": "markdown",
      "metadata": {
        "id": "5OdAsM9eVBXV"
      },
      "source": [
        "# **6) Definição de variável objtivo e variáveis de entrada**"
      ]
    },
    {
      "cell_type": "code",
      "execution_count": 8,
      "metadata": {
        "id": "mCg0SKwGYFXB"
      },
      "outputs": [],
      "source": [
        "X = data2[['device',\n",
        "           'os',\n",
        "           'platform',\n",
        "           'region',\n",
        "           'gp:carrers',\n",
        "           'gp:source_project',\n",
        "           'row',\n",
        "           'commented_by_professor',\n",
        "           'difficulty',\n",
        "           'discipline_id',\n",
        "           'examining_board_id',\n",
        "           'institute_id',\n",
        "           'knowledge_area_id',\n",
        "           'modality_id',\n",
        "           'product_id',\n",
        "           'publication_year',\n",
        "           'right_answer',\n",
        "           'scholarity_id',\n",
        "           'novo_question_id']]\n",
        "\n",
        "y= data2['acertou']"
      ]
    },
    {
      "cell_type": "code",
      "execution_count": 9,
      "metadata": {
        "colab": {
          "base_uri": "https://localhost:8080/"
        },
        "id": "_0k5kEP7G-lA",
        "outputId": "7b722ec2-a19e-4470-e1d4-93baceb17d5e"
      },
      "outputs": [
        {
          "output_type": "stream",
          "name": "stderr",
          "text": [
            "/usr/local/lib/python3.7/dist-packages/pandas/core/generic.py:6392: SettingWithCopyWarning: \n",
            "A value is trying to be set on a copy of a slice from a DataFrame\n",
            "\n",
            "See the caveats in the documentation: https://pandas.pydata.org/pandas-docs/stable/user_guide/indexing.html#returning-a-view-versus-a-copy\n",
            "  return self._update_inplace(result)\n"
          ]
        }
      ],
      "source": [
        "# Substituindo valores faltantes.\n",
        "\n",
        "X['region'].fillna('-', inplace=True)\n",
        "X['gp:carrers'].fillna('-', inplace=True)\n",
        "X['right_answer'].fillna('-', inplace=True)\n",
        "X['platform'].fillna('-', inplace=True)\n",
        "X['device'].fillna('-', inplace=True)\n",
        "X['os'].fillna('-', inplace=True)\n",
        "\n",
        "X['gp:source_project'].fillna(-1, inplace=True)\n",
        "X['commented_by_professor'].fillna(-1, inplace=True)\n",
        "X['difficulty'].fillna(-1, inplace=True)\n",
        "X['discipline_id'].fillna(-1, inplace=True)\n",
        "X['examining_board_id'].fillna(-1, inplace=True)\n",
        "X['institute_id'].fillna(-1, inplace=True)\n",
        "X['knowledge_area_id'].fillna(-1, inplace=True)\n",
        "X['modality_id'].fillna(-1, inplace=True)\n",
        "X['product_id'].fillna(-1, inplace=True)\n",
        "X['publication_year'].fillna(-1, inplace=True)\n",
        "X['scholarity_id'].fillna(-1, inplace=True)\n",
        "#X['subject_id'].fillna(-1, inplace=True)"
      ]
    },
    {
      "cell_type": "code",
      "execution_count": 10,
      "metadata": {
        "colab": {
          "base_uri": "https://localhost:8080/"
        },
        "id": "7_SHeMnsxUYJ",
        "outputId": "57bd5873-0f53-4bfb-d692-f7132b2578a3"
      },
      "outputs": [
        {
          "output_type": "stream",
          "name": "stdout",
          "text": [
            "<class 'pandas.core.frame.DataFrame'>\n",
            "Int64Index: 4557085 entries, 0 to 4557084\n",
            "Data columns (total 19 columns):\n",
            " #   Column                  Non-Null Count    Dtype  \n",
            "---  ------                  --------------    -----  \n",
            " 0   device                  4557085 non-null  object \n",
            " 1   os                      4557085 non-null  object \n",
            " 2   platform                4557085 non-null  object \n",
            " 3   region                  4557085 non-null  object \n",
            " 4   gp:carrers              4557085 non-null  object \n",
            " 5   gp:source_project       4557085 non-null  float64\n",
            " 6   row                     4557085 non-null  int64  \n",
            " 7   commented_by_professor  4557085 non-null  float64\n",
            " 8   difficulty              4557085 non-null  float64\n",
            " 9   discipline_id           4557085 non-null  float64\n",
            " 10  examining_board_id      4557085 non-null  float64\n",
            " 11  institute_id            4557085 non-null  float64\n",
            " 12  knowledge_area_id       4557085 non-null  float64\n",
            " 13  modality_id             4557085 non-null  float64\n",
            " 14  product_id              4557085 non-null  float64\n",
            " 15  publication_year        4557085 non-null  float64\n",
            " 16  right_answer            4557085 non-null  object \n",
            " 17  scholarity_id           4557085 non-null  float64\n",
            " 18  novo_question_id        4557085 non-null  int64  \n",
            "dtypes: float64(11), int64(2), object(6)\n",
            "memory usage: 695.4+ MB\n"
          ]
        }
      ],
      "source": [
        "X.info(verbose=True, show_counts=True)"
      ]
    },
    {
      "cell_type": "code",
      "execution_count": 11,
      "metadata": {
        "colab": {
          "base_uri": "https://localhost:8080/",
          "height": 0
        },
        "id": "389fpgTylHvT",
        "outputId": "1edcf469-a3db-42b4-ad53-7ee4cf3a4e2e"
      },
      "outputs": [
        {
          "output_type": "execute_result",
          "data": {
            "text/plain": [
              "         device          os platform          region  \\\n",
              "0  Apple iPhone  ios 15.4.1      iOS  Rio de Janeiro   \n",
              "1  Apple iPhone  ios 15.4.1      iOS  Rio de Janeiro   \n",
              "2  Apple iPhone  ios 15.4.1      iOS  Rio de Janeiro   \n",
              "3  Apple iPhone  ios 15.4.1      iOS  Rio de Janeiro   \n",
              "4  Apple iPhone  ios 15.4.1      iOS  Rio de Janeiro   \n",
              "\n",
              "                 gp:carrers  gp:source_project  row  commented_by_professor  \\\n",
              "0  Tribunal, Administrativa                0.0    1                     0.0   \n",
              "1  Tribunal, Administrativa                0.0    2                     0.0   \n",
              "2  Tribunal, Administrativa                0.0    3                     0.0   \n",
              "3  Tribunal, Administrativa                0.0    4                     0.0   \n",
              "4  Tribunal, Administrativa                0.0    5                     0.0   \n",
              "\n",
              "   difficulty  discipline_id  examining_board_id  institute_id  \\\n",
              "0         4.0          238.0                73.0        4126.0   \n",
              "1         4.0          238.0                73.0        4126.0   \n",
              "2         3.0          238.0                73.0        4126.0   \n",
              "3         4.0          238.0                73.0        4126.0   \n",
              "4         3.0          238.0                73.0        4126.0   \n",
              "\n",
              "   knowledge_area_id  modality_id  product_id  publication_year right_answer  \\\n",
              "0               13.0          1.0         1.0              22.0            A   \n",
              "1               13.0          1.0         1.0              22.0            C   \n",
              "2               13.0          1.0         1.0              22.0            D   \n",
              "3               13.0          1.0         1.0              22.0            A   \n",
              "4               13.0          1.0         1.0              22.0            E   \n",
              "\n",
              "   scholarity_id  novo_question_id  \n",
              "0            2.0            489400  \n",
              "1            2.0            489399  \n",
              "2            2.0            489398  \n",
              "3            2.0            489397  \n",
              "4            2.0            489396  "
            ],
            "text/html": [
              "\n",
              "  <div id=\"df-078696f2-b186-4e3d-aa27-dc1f799c42b5\">\n",
              "    <div class=\"colab-df-container\">\n",
              "      <div>\n",
              "<style scoped>\n",
              "    .dataframe tbody tr th:only-of-type {\n",
              "        vertical-align: middle;\n",
              "    }\n",
              "\n",
              "    .dataframe tbody tr th {\n",
              "        vertical-align: top;\n",
              "    }\n",
              "\n",
              "    .dataframe thead th {\n",
              "        text-align: right;\n",
              "    }\n",
              "</style>\n",
              "<table border=\"1\" class=\"dataframe\">\n",
              "  <thead>\n",
              "    <tr style=\"text-align: right;\">\n",
              "      <th></th>\n",
              "      <th>device</th>\n",
              "      <th>os</th>\n",
              "      <th>platform</th>\n",
              "      <th>region</th>\n",
              "      <th>gp:carrers</th>\n",
              "      <th>gp:source_project</th>\n",
              "      <th>row</th>\n",
              "      <th>commented_by_professor</th>\n",
              "      <th>difficulty</th>\n",
              "      <th>discipline_id</th>\n",
              "      <th>examining_board_id</th>\n",
              "      <th>institute_id</th>\n",
              "      <th>knowledge_area_id</th>\n",
              "      <th>modality_id</th>\n",
              "      <th>product_id</th>\n",
              "      <th>publication_year</th>\n",
              "      <th>right_answer</th>\n",
              "      <th>scholarity_id</th>\n",
              "      <th>novo_question_id</th>\n",
              "    </tr>\n",
              "  </thead>\n",
              "  <tbody>\n",
              "    <tr>\n",
              "      <th>0</th>\n",
              "      <td>Apple iPhone</td>\n",
              "      <td>ios 15.4.1</td>\n",
              "      <td>iOS</td>\n",
              "      <td>Rio de Janeiro</td>\n",
              "      <td>Tribunal, Administrativa</td>\n",
              "      <td>0.0</td>\n",
              "      <td>1</td>\n",
              "      <td>0.0</td>\n",
              "      <td>4.0</td>\n",
              "      <td>238.0</td>\n",
              "      <td>73.0</td>\n",
              "      <td>4126.0</td>\n",
              "      <td>13.0</td>\n",
              "      <td>1.0</td>\n",
              "      <td>1.0</td>\n",
              "      <td>22.0</td>\n",
              "      <td>A</td>\n",
              "      <td>2.0</td>\n",
              "      <td>489400</td>\n",
              "    </tr>\n",
              "    <tr>\n",
              "      <th>1</th>\n",
              "      <td>Apple iPhone</td>\n",
              "      <td>ios 15.4.1</td>\n",
              "      <td>iOS</td>\n",
              "      <td>Rio de Janeiro</td>\n",
              "      <td>Tribunal, Administrativa</td>\n",
              "      <td>0.0</td>\n",
              "      <td>2</td>\n",
              "      <td>0.0</td>\n",
              "      <td>4.0</td>\n",
              "      <td>238.0</td>\n",
              "      <td>73.0</td>\n",
              "      <td>4126.0</td>\n",
              "      <td>13.0</td>\n",
              "      <td>1.0</td>\n",
              "      <td>1.0</td>\n",
              "      <td>22.0</td>\n",
              "      <td>C</td>\n",
              "      <td>2.0</td>\n",
              "      <td>489399</td>\n",
              "    </tr>\n",
              "    <tr>\n",
              "      <th>2</th>\n",
              "      <td>Apple iPhone</td>\n",
              "      <td>ios 15.4.1</td>\n",
              "      <td>iOS</td>\n",
              "      <td>Rio de Janeiro</td>\n",
              "      <td>Tribunal, Administrativa</td>\n",
              "      <td>0.0</td>\n",
              "      <td>3</td>\n",
              "      <td>0.0</td>\n",
              "      <td>3.0</td>\n",
              "      <td>238.0</td>\n",
              "      <td>73.0</td>\n",
              "      <td>4126.0</td>\n",
              "      <td>13.0</td>\n",
              "      <td>1.0</td>\n",
              "      <td>1.0</td>\n",
              "      <td>22.0</td>\n",
              "      <td>D</td>\n",
              "      <td>2.0</td>\n",
              "      <td>489398</td>\n",
              "    </tr>\n",
              "    <tr>\n",
              "      <th>3</th>\n",
              "      <td>Apple iPhone</td>\n",
              "      <td>ios 15.4.1</td>\n",
              "      <td>iOS</td>\n",
              "      <td>Rio de Janeiro</td>\n",
              "      <td>Tribunal, Administrativa</td>\n",
              "      <td>0.0</td>\n",
              "      <td>4</td>\n",
              "      <td>0.0</td>\n",
              "      <td>4.0</td>\n",
              "      <td>238.0</td>\n",
              "      <td>73.0</td>\n",
              "      <td>4126.0</td>\n",
              "      <td>13.0</td>\n",
              "      <td>1.0</td>\n",
              "      <td>1.0</td>\n",
              "      <td>22.0</td>\n",
              "      <td>A</td>\n",
              "      <td>2.0</td>\n",
              "      <td>489397</td>\n",
              "    </tr>\n",
              "    <tr>\n",
              "      <th>4</th>\n",
              "      <td>Apple iPhone</td>\n",
              "      <td>ios 15.4.1</td>\n",
              "      <td>iOS</td>\n",
              "      <td>Rio de Janeiro</td>\n",
              "      <td>Tribunal, Administrativa</td>\n",
              "      <td>0.0</td>\n",
              "      <td>5</td>\n",
              "      <td>0.0</td>\n",
              "      <td>3.0</td>\n",
              "      <td>238.0</td>\n",
              "      <td>73.0</td>\n",
              "      <td>4126.0</td>\n",
              "      <td>13.0</td>\n",
              "      <td>1.0</td>\n",
              "      <td>1.0</td>\n",
              "      <td>22.0</td>\n",
              "      <td>E</td>\n",
              "      <td>2.0</td>\n",
              "      <td>489396</td>\n",
              "    </tr>\n",
              "  </tbody>\n",
              "</table>\n",
              "</div>\n",
              "      <button class=\"colab-df-convert\" onclick=\"convertToInteractive('df-078696f2-b186-4e3d-aa27-dc1f799c42b5')\"\n",
              "              title=\"Convert this dataframe to an interactive table.\"\n",
              "              style=\"display:none;\">\n",
              "        \n",
              "  <svg xmlns=\"http://www.w3.org/2000/svg\" height=\"24px\"viewBox=\"0 0 24 24\"\n",
              "       width=\"24px\">\n",
              "    <path d=\"M0 0h24v24H0V0z\" fill=\"none\"/>\n",
              "    <path d=\"M18.56 5.44l.94 2.06.94-2.06 2.06-.94-2.06-.94-.94-2.06-.94 2.06-2.06.94zm-11 1L8.5 8.5l.94-2.06 2.06-.94-2.06-.94L8.5 2.5l-.94 2.06-2.06.94zm10 10l.94 2.06.94-2.06 2.06-.94-2.06-.94-.94-2.06-.94 2.06-2.06.94z\"/><path d=\"M17.41 7.96l-1.37-1.37c-.4-.4-.92-.59-1.43-.59-.52 0-1.04.2-1.43.59L10.3 9.45l-7.72 7.72c-.78.78-.78 2.05 0 2.83L4 21.41c.39.39.9.59 1.41.59.51 0 1.02-.2 1.41-.59l7.78-7.78 2.81-2.81c.8-.78.8-2.07 0-2.86zM5.41 20L4 18.59l7.72-7.72 1.47 1.35L5.41 20z\"/>\n",
              "  </svg>\n",
              "      </button>\n",
              "      \n",
              "  <style>\n",
              "    .colab-df-container {\n",
              "      display:flex;\n",
              "      flex-wrap:wrap;\n",
              "      gap: 12px;\n",
              "    }\n",
              "\n",
              "    .colab-df-convert {\n",
              "      background-color: #E8F0FE;\n",
              "      border: none;\n",
              "      border-radius: 50%;\n",
              "      cursor: pointer;\n",
              "      display: none;\n",
              "      fill: #1967D2;\n",
              "      height: 32px;\n",
              "      padding: 0 0 0 0;\n",
              "      width: 32px;\n",
              "    }\n",
              "\n",
              "    .colab-df-convert:hover {\n",
              "      background-color: #E2EBFA;\n",
              "      box-shadow: 0px 1px 2px rgba(60, 64, 67, 0.3), 0px 1px 3px 1px rgba(60, 64, 67, 0.15);\n",
              "      fill: #174EA6;\n",
              "    }\n",
              "\n",
              "    [theme=dark] .colab-df-convert {\n",
              "      background-color: #3B4455;\n",
              "      fill: #D2E3FC;\n",
              "    }\n",
              "\n",
              "    [theme=dark] .colab-df-convert:hover {\n",
              "      background-color: #434B5C;\n",
              "      box-shadow: 0px 1px 3px 1px rgba(0, 0, 0, 0.15);\n",
              "      filter: drop-shadow(0px 1px 2px rgba(0, 0, 0, 0.3));\n",
              "      fill: #FFFFFF;\n",
              "    }\n",
              "  </style>\n",
              "\n",
              "      <script>\n",
              "        const buttonEl =\n",
              "          document.querySelector('#df-078696f2-b186-4e3d-aa27-dc1f799c42b5 button.colab-df-convert');\n",
              "        buttonEl.style.display =\n",
              "          google.colab.kernel.accessAllowed ? 'block' : 'none';\n",
              "\n",
              "        async function convertToInteractive(key) {\n",
              "          const element = document.querySelector('#df-078696f2-b186-4e3d-aa27-dc1f799c42b5');\n",
              "          const dataTable =\n",
              "            await google.colab.kernel.invokeFunction('convertToInteractive',\n",
              "                                                     [key], {});\n",
              "          if (!dataTable) return;\n",
              "\n",
              "          const docLinkHtml = 'Like what you see? Visit the ' +\n",
              "            '<a target=\"_blank\" href=https://colab.research.google.com/notebooks/data_table.ipynb>data table notebook</a>'\n",
              "            + ' to learn more about interactive tables.';\n",
              "          element.innerHTML = '';\n",
              "          dataTable['output_type'] = 'display_data';\n",
              "          await google.colab.output.renderOutput(dataTable, element);\n",
              "          const docLink = document.createElement('div');\n",
              "          docLink.innerHTML = docLinkHtml;\n",
              "          element.appendChild(docLink);\n",
              "        }\n",
              "      </script>\n",
              "    </div>\n",
              "  </div>\n",
              "  "
            ]
          },
          "metadata": {},
          "execution_count": 11
        }
      ],
      "source": [
        "X.head()"
      ]
    },
    {
      "cell_type": "code",
      "execution_count": 12,
      "metadata": {
        "colab": {
          "base_uri": "https://localhost:8080/"
        },
        "id": "Dygx6w80Yfj2",
        "outputId": "e0edfafb-0d0b-49db-ebf7-d86c849bdb63"
      },
      "outputs": [
        {
          "output_type": "execute_result",
          "data": {
            "text/plain": [
              "((3417813, 19), (1139272, 19), (3417813,), (1139272,))"
            ]
          },
          "metadata": {},
          "execution_count": 12
        }
      ],
      "source": [
        "# Separando em conjuntos de treino e teste.\n",
        "X_train, X_test, y_train, y_test = train_test_split(X, y, random_state=42, test_size=0.25, stratify=y)\n",
        "X_train.shape, X_test.shape, y_train.shape, y_test.shape"
      ]
    },
    {
      "cell_type": "markdown",
      "metadata": {
        "id": "yECoqDQ-bmym"
      },
      "source": [
        "# **7) Pre-processamento de dados**"
      ]
    },
    {
      "cell_type": "code",
      "execution_count": 13,
      "metadata": {
        "colab": {
          "base_uri": "https://localhost:8080/",
          "height": 0
        },
        "id": "WZ7AM-5I35qd",
        "outputId": "882554a9-c5b5-4bd1-d504-3b7d7fd12d35"
      },
      "outputs": [
        {
          "output_type": "execute_result",
          "data": {
            "text/plain": [
              "                       device                os platform             region  \\\n",
              "3320049  Samsung Galaxy Phone        Chrome 104      Web  Rio Grande do Sul   \n",
              "4348413         Samsung Phone        Chrome 103      Web     Santa Catarina   \n",
              "3556607               Windows        Chrome 102      Web          Tocantins   \n",
              "467512                Windows        Chrome 103      Web         Pernambuco   \n",
              "2152684          Apple iPhone  Mobile Safari 15      Web     Rio de Janeiro   \n",
              "\n",
              "                                         gp:carrers  gp:source_project  row  \\\n",
              "3320049                                    Policial                1.0   62   \n",
              "4348413                              Administrativa                1.0   99   \n",
              "3556607  Tribunal, Administrativa, Policial, Outras                1.0   76   \n",
              "467512                                     Educação                1.0   80   \n",
              "2152684                                    Tribunal                1.0   79   \n",
              "\n",
              "         commented_by_professor  difficulty  discipline_id  \\\n",
              "3320049                     1.0         3.0          560.0   \n",
              "4348413                     1.0         2.0           19.0   \n",
              "3556607                     1.0         2.0            1.0   \n",
              "467512                      1.0         3.0            1.0   \n",
              "2152684                     1.0         2.0           46.0   \n",
              "\n",
              "         examining_board_id  institute_id  knowledge_area_id  modality_id  \\\n",
              "3320049               246.0         112.0                9.0          1.0   \n",
              "4348413                 2.0        6206.0                9.0          2.0   \n",
              "3556607                 2.0        9821.0               14.0          2.0   \n",
              "467512                 63.0        6672.0               14.0          1.0   \n",
              "2152684              1326.0        4505.0               13.0          1.0   \n",
              "\n",
              "         product_id  publication_year right_answer  scholarity_id  \\\n",
              "3320049         1.0              16.0            D            3.0   \n",
              "4348413         1.0              14.0            E            3.0   \n",
              "3556607         1.0              21.0            C            2.0   \n",
              "467512          1.0              22.0            A            3.0   \n",
              "2152684         1.0              20.0            D            2.0   \n",
              "\n",
              "         novo_question_id  \n",
              "3320049            218670  \n",
              "4348413            121830  \n",
              "3556607            437991  \n",
              "467512             493867  \n",
              "2152684            347168  "
            ],
            "text/html": [
              "\n",
              "  <div id=\"df-c9d9e244-fd91-4bfb-9e8b-40b6239567d7\">\n",
              "    <div class=\"colab-df-container\">\n",
              "      <div>\n",
              "<style scoped>\n",
              "    .dataframe tbody tr th:only-of-type {\n",
              "        vertical-align: middle;\n",
              "    }\n",
              "\n",
              "    .dataframe tbody tr th {\n",
              "        vertical-align: top;\n",
              "    }\n",
              "\n",
              "    .dataframe thead th {\n",
              "        text-align: right;\n",
              "    }\n",
              "</style>\n",
              "<table border=\"1\" class=\"dataframe\">\n",
              "  <thead>\n",
              "    <tr style=\"text-align: right;\">\n",
              "      <th></th>\n",
              "      <th>device</th>\n",
              "      <th>os</th>\n",
              "      <th>platform</th>\n",
              "      <th>region</th>\n",
              "      <th>gp:carrers</th>\n",
              "      <th>gp:source_project</th>\n",
              "      <th>row</th>\n",
              "      <th>commented_by_professor</th>\n",
              "      <th>difficulty</th>\n",
              "      <th>discipline_id</th>\n",
              "      <th>examining_board_id</th>\n",
              "      <th>institute_id</th>\n",
              "      <th>knowledge_area_id</th>\n",
              "      <th>modality_id</th>\n",
              "      <th>product_id</th>\n",
              "      <th>publication_year</th>\n",
              "      <th>right_answer</th>\n",
              "      <th>scholarity_id</th>\n",
              "      <th>novo_question_id</th>\n",
              "    </tr>\n",
              "  </thead>\n",
              "  <tbody>\n",
              "    <tr>\n",
              "      <th>3320049</th>\n",
              "      <td>Samsung Galaxy Phone</td>\n",
              "      <td>Chrome 104</td>\n",
              "      <td>Web</td>\n",
              "      <td>Rio Grande do Sul</td>\n",
              "      <td>Policial</td>\n",
              "      <td>1.0</td>\n",
              "      <td>62</td>\n",
              "      <td>1.0</td>\n",
              "      <td>3.0</td>\n",
              "      <td>560.0</td>\n",
              "      <td>246.0</td>\n",
              "      <td>112.0</td>\n",
              "      <td>9.0</td>\n",
              "      <td>1.0</td>\n",
              "      <td>1.0</td>\n",
              "      <td>16.0</td>\n",
              "      <td>D</td>\n",
              "      <td>3.0</td>\n",
              "      <td>218670</td>\n",
              "    </tr>\n",
              "    <tr>\n",
              "      <th>4348413</th>\n",
              "      <td>Samsung Phone</td>\n",
              "      <td>Chrome 103</td>\n",
              "      <td>Web</td>\n",
              "      <td>Santa Catarina</td>\n",
              "      <td>Administrativa</td>\n",
              "      <td>1.0</td>\n",
              "      <td>99</td>\n",
              "      <td>1.0</td>\n",
              "      <td>2.0</td>\n",
              "      <td>19.0</td>\n",
              "      <td>2.0</td>\n",
              "      <td>6206.0</td>\n",
              "      <td>9.0</td>\n",
              "      <td>2.0</td>\n",
              "      <td>1.0</td>\n",
              "      <td>14.0</td>\n",
              "      <td>E</td>\n",
              "      <td>3.0</td>\n",
              "      <td>121830</td>\n",
              "    </tr>\n",
              "    <tr>\n",
              "      <th>3556607</th>\n",
              "      <td>Windows</td>\n",
              "      <td>Chrome 102</td>\n",
              "      <td>Web</td>\n",
              "      <td>Tocantins</td>\n",
              "      <td>Tribunal, Administrativa, Policial, Outras</td>\n",
              "      <td>1.0</td>\n",
              "      <td>76</td>\n",
              "      <td>1.0</td>\n",
              "      <td>2.0</td>\n",
              "      <td>1.0</td>\n",
              "      <td>2.0</td>\n",
              "      <td>9821.0</td>\n",
              "      <td>14.0</td>\n",
              "      <td>2.0</td>\n",
              "      <td>1.0</td>\n",
              "      <td>21.0</td>\n",
              "      <td>C</td>\n",
              "      <td>2.0</td>\n",
              "      <td>437991</td>\n",
              "    </tr>\n",
              "    <tr>\n",
              "      <th>467512</th>\n",
              "      <td>Windows</td>\n",
              "      <td>Chrome 103</td>\n",
              "      <td>Web</td>\n",
              "      <td>Pernambuco</td>\n",
              "      <td>Educação</td>\n",
              "      <td>1.0</td>\n",
              "      <td>80</td>\n",
              "      <td>1.0</td>\n",
              "      <td>3.0</td>\n",
              "      <td>1.0</td>\n",
              "      <td>63.0</td>\n",
              "      <td>6672.0</td>\n",
              "      <td>14.0</td>\n",
              "      <td>1.0</td>\n",
              "      <td>1.0</td>\n",
              "      <td>22.0</td>\n",
              "      <td>A</td>\n",
              "      <td>3.0</td>\n",
              "      <td>493867</td>\n",
              "    </tr>\n",
              "    <tr>\n",
              "      <th>2152684</th>\n",
              "      <td>Apple iPhone</td>\n",
              "      <td>Mobile Safari 15</td>\n",
              "      <td>Web</td>\n",
              "      <td>Rio de Janeiro</td>\n",
              "      <td>Tribunal</td>\n",
              "      <td>1.0</td>\n",
              "      <td>79</td>\n",
              "      <td>1.0</td>\n",
              "      <td>2.0</td>\n",
              "      <td>46.0</td>\n",
              "      <td>1326.0</td>\n",
              "      <td>4505.0</td>\n",
              "      <td>13.0</td>\n",
              "      <td>1.0</td>\n",
              "      <td>1.0</td>\n",
              "      <td>20.0</td>\n",
              "      <td>D</td>\n",
              "      <td>2.0</td>\n",
              "      <td>347168</td>\n",
              "    </tr>\n",
              "  </tbody>\n",
              "</table>\n",
              "</div>\n",
              "      <button class=\"colab-df-convert\" onclick=\"convertToInteractive('df-c9d9e244-fd91-4bfb-9e8b-40b6239567d7')\"\n",
              "              title=\"Convert this dataframe to an interactive table.\"\n",
              "              style=\"display:none;\">\n",
              "        \n",
              "  <svg xmlns=\"http://www.w3.org/2000/svg\" height=\"24px\"viewBox=\"0 0 24 24\"\n",
              "       width=\"24px\">\n",
              "    <path d=\"M0 0h24v24H0V0z\" fill=\"none\"/>\n",
              "    <path d=\"M18.56 5.44l.94 2.06.94-2.06 2.06-.94-2.06-.94-.94-2.06-.94 2.06-2.06.94zm-11 1L8.5 8.5l.94-2.06 2.06-.94-2.06-.94L8.5 2.5l-.94 2.06-2.06.94zm10 10l.94 2.06.94-2.06 2.06-.94-2.06-.94-.94-2.06-.94 2.06-2.06.94z\"/><path d=\"M17.41 7.96l-1.37-1.37c-.4-.4-.92-.59-1.43-.59-.52 0-1.04.2-1.43.59L10.3 9.45l-7.72 7.72c-.78.78-.78 2.05 0 2.83L4 21.41c.39.39.9.59 1.41.59.51 0 1.02-.2 1.41-.59l7.78-7.78 2.81-2.81c.8-.78.8-2.07 0-2.86zM5.41 20L4 18.59l7.72-7.72 1.47 1.35L5.41 20z\"/>\n",
              "  </svg>\n",
              "      </button>\n",
              "      \n",
              "  <style>\n",
              "    .colab-df-container {\n",
              "      display:flex;\n",
              "      flex-wrap:wrap;\n",
              "      gap: 12px;\n",
              "    }\n",
              "\n",
              "    .colab-df-convert {\n",
              "      background-color: #E8F0FE;\n",
              "      border: none;\n",
              "      border-radius: 50%;\n",
              "      cursor: pointer;\n",
              "      display: none;\n",
              "      fill: #1967D2;\n",
              "      height: 32px;\n",
              "      padding: 0 0 0 0;\n",
              "      width: 32px;\n",
              "    }\n",
              "\n",
              "    .colab-df-convert:hover {\n",
              "      background-color: #E2EBFA;\n",
              "      box-shadow: 0px 1px 2px rgba(60, 64, 67, 0.3), 0px 1px 3px 1px rgba(60, 64, 67, 0.15);\n",
              "      fill: #174EA6;\n",
              "    }\n",
              "\n",
              "    [theme=dark] .colab-df-convert {\n",
              "      background-color: #3B4455;\n",
              "      fill: #D2E3FC;\n",
              "    }\n",
              "\n",
              "    [theme=dark] .colab-df-convert:hover {\n",
              "      background-color: #434B5C;\n",
              "      box-shadow: 0px 1px 3px 1px rgba(0, 0, 0, 0.15);\n",
              "      filter: drop-shadow(0px 1px 2px rgba(0, 0, 0, 0.3));\n",
              "      fill: #FFFFFF;\n",
              "    }\n",
              "  </style>\n",
              "\n",
              "      <script>\n",
              "        const buttonEl =\n",
              "          document.querySelector('#df-c9d9e244-fd91-4bfb-9e8b-40b6239567d7 button.colab-df-convert');\n",
              "        buttonEl.style.display =\n",
              "          google.colab.kernel.accessAllowed ? 'block' : 'none';\n",
              "\n",
              "        async function convertToInteractive(key) {\n",
              "          const element = document.querySelector('#df-c9d9e244-fd91-4bfb-9e8b-40b6239567d7');\n",
              "          const dataTable =\n",
              "            await google.colab.kernel.invokeFunction('convertToInteractive',\n",
              "                                                     [key], {});\n",
              "          if (!dataTable) return;\n",
              "\n",
              "          const docLinkHtml = 'Like what you see? Visit the ' +\n",
              "            '<a target=\"_blank\" href=https://colab.research.google.com/notebooks/data_table.ipynb>data table notebook</a>'\n",
              "            + ' to learn more about interactive tables.';\n",
              "          element.innerHTML = '';\n",
              "          dataTable['output_type'] = 'display_data';\n",
              "          await google.colab.output.renderOutput(dataTable, element);\n",
              "          const docLink = document.createElement('div');\n",
              "          docLink.innerHTML = docLinkHtml;\n",
              "          element.appendChild(docLink);\n",
              "        }\n",
              "      </script>\n",
              "    </div>\n",
              "  </div>\n",
              "  "
            ]
          },
          "metadata": {},
          "execution_count": 13
        }
      ],
      "source": [
        "X_train.head()\n"
      ]
    },
    {
      "cell_type": "code",
      "execution_count": 14,
      "metadata": {
        "id": "VkPLlUi_rEDf"
      },
      "outputs": [],
      "source": [
        "# Aplicando preporcessador LabelEncoder nas variáveis não numéricas.\n",
        "le = preprocessing.LabelEncoder()\n",
        "X_train['platform'] = le.fit_transform(X_train['platform'])\n",
        "X_train['region'] = le.fit_transform(X_train['region'])\n",
        "X_train['gp:carrers'] = le.fit_transform(X_train['gp:carrers'])\n",
        "X_train['right_answer'] = le.fit_transform(X_train['right_answer'])\n",
        "X_train['device'] = le.fit_transform(X_train['device'])\n",
        "X_train['os'] = le.fit_transform(X_train['os'])\n",
        "\n",
        "X_test['platform'] = le.fit_transform(X_test['platform'])\n",
        "X_test['region'] = le.fit_transform(X_test['region'])\n",
        "X_test['gp:carrers'] = le.fit_transform(X_test['gp:carrers'])\n",
        "X_test['right_answer'] = le.fit_transform(X_test['right_answer'])\n",
        "X_test['device'] = le.fit_transform(X_test['device'])\n",
        "X_test['os'] = le.fit_transform(X_test['os'])"
      ]
    },
    {
      "cell_type": "code",
      "execution_count": 15,
      "metadata": {
        "colab": {
          "base_uri": "https://localhost:8080/"
        },
        "id": "PEN0I8i1WsSY",
        "outputId": "f3330cf3-2849-4714-97aa-b73f122370a2"
      },
      "outputs": [
        {
          "output_type": "execute_result",
          "data": {
            "text/plain": [
              "device                    0\n",
              "os                        0\n",
              "platform                  0\n",
              "region                    0\n",
              "gp:carrers                0\n",
              "gp:source_project         0\n",
              "row                       0\n",
              "commented_by_professor    0\n",
              "difficulty                0\n",
              "discipline_id             0\n",
              "examining_board_id        0\n",
              "institute_id              0\n",
              "knowledge_area_id         0\n",
              "modality_id               0\n",
              "product_id                0\n",
              "publication_year          0\n",
              "right_answer              0\n",
              "scholarity_id             0\n",
              "novo_question_id          0\n",
              "dtype: int64"
            ]
          },
          "metadata": {},
          "execution_count": 15
        }
      ],
      "source": [
        "X_train.isna().sum()"
      ]
    },
    {
      "cell_type": "markdown",
      "source": [
        "# **8) Escolha e definição dos modelos**"
      ],
      "metadata": {
        "id": "dSqaNV6YttEg"
      }
    },
    {
      "cell_type": "code",
      "execution_count": 20,
      "metadata": {
        "id": "mYz_66EOsX_e"
      },
      "outputs": [],
      "source": [
        "# Definindo o modelo a ser utilizado: Floresta Aleatória.\n",
        "model_1 = DecisionTreeClassifier()\n",
        "model_2 = RandomForestClassifier(n_estimators=30, random_state=42)"
      ]
    },
    {
      "cell_type": "code",
      "source": [
        "# Aplicando o modelo 1 e calculando o f1.\n",
        "model_1.fit(X_train, y_train)\n",
        "y_pred1 = model_1.predict(X_test)"
      ],
      "metadata": {
        "id": "yEd2-kuU6Tyf"
      },
      "execution_count": 21,
      "outputs": []
    },
    {
      "cell_type": "code",
      "source": [
        "# Aplicando o modelo 2 e calculando o f1.\n",
        "model_2.fit(X_train, y_train)\n",
        "y_pred2 = model_2.predict(X_test)"
      ],
      "metadata": {
        "id": "CtGuUE_W0Peu"
      },
      "execution_count": 17,
      "outputs": []
    },
    {
      "cell_type": "code",
      "execution_count": 22,
      "metadata": {
        "colab": {
          "base_uri": "https://localhost:8080/"
        },
        "id": "s3XxtX5vLQX5",
        "outputId": "8422e1f0-fa45-4ae1-820f-2d68a81df6e0"
      },
      "outputs": [
        {
          "output_type": "stream",
          "name": "stdout",
          "text": [
            "f1-score do modelo 1: 0.8947563467481734\n",
            "f1-score do modelo 2: 0.9187431735629557\n"
          ]
        }
      ],
      "source": [
        "# Avaliando graus de exatitude dos modelos com f1-score.\n",
        "print(f'f1-score do modelo 1: {f1_score(y_test, y_pred1)}')\n",
        "print(f'f1-score do modelo 2: {f1_score(y_test, y_pred2)}')"
      ]
    },
    {
      "cell_type": "markdown",
      "source": [
        "# **9) Aplicação do modelo e elaboração da predição**"
      ],
      "metadata": {
        "id": "SRhQ_OUNuNJ2"
      }
    },
    {
      "cell_type": "code",
      "source": [
        "# Aplicando tratamento de variáveis.\n",
        "df_submit['gp:source_project'] = df_submit['gp:source_project'].map(dict_source)\n",
        "df_submit['publication_year'] = df_submit['publication_year'].apply(lambda s: encode_5(s))\n"
      ],
      "metadata": {
        "id": "0glsijHkG5SW"
      },
      "execution_count": 23,
      "outputs": []
    },
    {
      "cell_type": "code",
      "source": [
        "X_aplic = df_submit[['device',\n",
        "           'os',\n",
        "           'platform',\n",
        "           'region',\n",
        "           'gp:carrers',\n",
        "           'gp:source_project',\n",
        "           'row',\n",
        "           'commented_by_professor',\n",
        "           'difficulty',\n",
        "           'discipline_id',\n",
        "           'examining_board_id',\n",
        "           'institute_id',\n",
        "           'knowledge_area_id',\n",
        "           'modality_id',\n",
        "           'product_id',\n",
        "           'publication_year',\n",
        "           'right_answer',\n",
        "           'scholarity_id',\n",
        "           'novo_question_id']]"
      ],
      "metadata": {
        "id": "Xvegb0tt4LGs"
      },
      "execution_count": 24,
      "outputs": []
    },
    {
      "cell_type": "code",
      "source": [
        "# Substituindo valores faltantes.\n",
        "\n",
        "X_aplic['region'].fillna('-', inplace=True)\n",
        "X_aplic['gp:carrers'].fillna('-', inplace=True)\n",
        "X_aplic['right_answer'].fillna('-', inplace=True)\n",
        "X_aplic['device'].fillna('-', inplace=True)\n",
        "X_aplic['os'].fillna('-', inplace=True)\n",
        "X_aplic['platform'].fillna('-', inplace=True)\n",
        "\n",
        "X_aplic['gp:source_project'].fillna(-1, inplace=True)\n",
        "X_aplic['commented_by_professor'].fillna(-1, inplace=True)\n",
        "X_aplic['difficulty'].fillna(-1, inplace=True)\n",
        "X_aplic['discipline_id'].fillna(-1, inplace=True)\n",
        "X_aplic['examining_board_id'].fillna(-1, inplace=True)\n",
        "X_aplic['institute_id'].fillna(-1, inplace=True)\n",
        "X_aplic['knowledge_area_id'].fillna(-1, inplace=True)\n",
        "X_aplic['modality_id'].fillna(-1, inplace=True)\n",
        "X_aplic['product_id'].fillna(-1, inplace=True)\n",
        "X_aplic['publication_year'].fillna(-1, inplace=True)\n",
        "X_aplic['scholarity_id'].fillna(-1, inplace=True)"
      ],
      "metadata": {
        "id": "YqJDgG5G49Ef"
      },
      "execution_count": null,
      "outputs": []
    },
    {
      "cell_type": "code",
      "source": [
        "# Aplicando LabelEncoder no conjunto de aplicação.\n",
        "\n",
        "X_aplic['region'] = le.fit_transform(X_aplic['region'])\n",
        "X_aplic['gp:carrers'] = le.fit_transform(X_aplic['gp:carrers'])\n",
        "X_aplic['right_answer'] = le.fit_transform(X_aplic['right_answer'])\n",
        "X_aplic['platform'] = le.fit_transform(X_aplic['platform'])\n",
        "X_aplic['device'] = le.fit_transform(X_aplic['device'])\n",
        "X_aplic['os'] = le.fit_transform(X_aplic['os'])\n"
      ],
      "metadata": {
        "id": "XmCCV67w5Nm1"
      },
      "execution_count": null,
      "outputs": []
    },
    {
      "cell_type": "code",
      "source": [
        "X_aplic.head()"
      ],
      "metadata": {
        "colab": {
          "base_uri": "https://localhost:8080/",
          "height": 270
        },
        "id": "igxAuGVeGgxF",
        "outputId": "16ef4ec4-d773-43d4-cd95-f42bfef4a835"
      },
      "execution_count": 27,
      "outputs": [
        {
          "output_type": "execute_result",
          "data": {
            "text/plain": [
              "   device   os  platform  region  gp:carrers  gp:source_project  row  \\\n",
              "0      48  228         3      40        1148                0.0  101   \n",
              "1     200    6         2      44        1147                1.0  101   \n",
              "2      48  229         3      28         233                0.0  101   \n",
              "3     200    6         2      35         679                1.0  101   \n",
              "4     200   52         2      14         143                1.0  101   \n",
              "\n",
              "   commented_by_professor  difficulty  discipline_id  examining_board_id  \\\n",
              "0                     0.0         2.0           95.0                63.0   \n",
              "1                     0.0         1.0           56.0               570.0   \n",
              "2                     0.0         4.0           16.0                 5.0   \n",
              "3                     1.0         1.0            3.0                 2.0   \n",
              "4                     0.0         3.0           99.0                 1.0   \n",
              "\n",
              "   institute_id  knowledge_area_id  modality_id  product_id  publication_year  \\\n",
              "0        6289.0               13.0          1.0         1.0              21.0   \n",
              "1        2994.0               53.0          1.0         1.0              16.0   \n",
              "2          20.0               14.0          1.0         1.0              17.0   \n",
              "3          36.0                9.0          2.0         1.0              14.0   \n",
              "4        6001.0               13.0          1.0         1.0              15.0   \n",
              "\n",
              "   right_answer  scholarity_id  novo_question_id  \n",
              "0             2            3.0            484766  \n",
              "1             3            3.0            159545  \n",
              "2             3            3.0            233145  \n",
              "3             3            3.0            108082  \n",
              "4             1            3.0            151695  "
            ],
            "text/html": [
              "\n",
              "  <div id=\"df-a73218c4-9403-4846-b7f3-4874aeb0414d\">\n",
              "    <div class=\"colab-df-container\">\n",
              "      <div>\n",
              "<style scoped>\n",
              "    .dataframe tbody tr th:only-of-type {\n",
              "        vertical-align: middle;\n",
              "    }\n",
              "\n",
              "    .dataframe tbody tr th {\n",
              "        vertical-align: top;\n",
              "    }\n",
              "\n",
              "    .dataframe thead th {\n",
              "        text-align: right;\n",
              "    }\n",
              "</style>\n",
              "<table border=\"1\" class=\"dataframe\">\n",
              "  <thead>\n",
              "    <tr style=\"text-align: right;\">\n",
              "      <th></th>\n",
              "      <th>device</th>\n",
              "      <th>os</th>\n",
              "      <th>platform</th>\n",
              "      <th>region</th>\n",
              "      <th>gp:carrers</th>\n",
              "      <th>gp:source_project</th>\n",
              "      <th>row</th>\n",
              "      <th>commented_by_professor</th>\n",
              "      <th>difficulty</th>\n",
              "      <th>discipline_id</th>\n",
              "      <th>examining_board_id</th>\n",
              "      <th>institute_id</th>\n",
              "      <th>knowledge_area_id</th>\n",
              "      <th>modality_id</th>\n",
              "      <th>product_id</th>\n",
              "      <th>publication_year</th>\n",
              "      <th>right_answer</th>\n",
              "      <th>scholarity_id</th>\n",
              "      <th>novo_question_id</th>\n",
              "    </tr>\n",
              "  </thead>\n",
              "  <tbody>\n",
              "    <tr>\n",
              "      <th>0</th>\n",
              "      <td>48</td>\n",
              "      <td>228</td>\n",
              "      <td>3</td>\n",
              "      <td>40</td>\n",
              "      <td>1148</td>\n",
              "      <td>0.0</td>\n",
              "      <td>101</td>\n",
              "      <td>0.0</td>\n",
              "      <td>2.0</td>\n",
              "      <td>95.0</td>\n",
              "      <td>63.0</td>\n",
              "      <td>6289.0</td>\n",
              "      <td>13.0</td>\n",
              "      <td>1.0</td>\n",
              "      <td>1.0</td>\n",
              "      <td>21.0</td>\n",
              "      <td>2</td>\n",
              "      <td>3.0</td>\n",
              "      <td>484766</td>\n",
              "    </tr>\n",
              "    <tr>\n",
              "      <th>1</th>\n",
              "      <td>200</td>\n",
              "      <td>6</td>\n",
              "      <td>2</td>\n",
              "      <td>44</td>\n",
              "      <td>1147</td>\n",
              "      <td>1.0</td>\n",
              "      <td>101</td>\n",
              "      <td>0.0</td>\n",
              "      <td>1.0</td>\n",
              "      <td>56.0</td>\n",
              "      <td>570.0</td>\n",
              "      <td>2994.0</td>\n",
              "      <td>53.0</td>\n",
              "      <td>1.0</td>\n",
              "      <td>1.0</td>\n",
              "      <td>16.0</td>\n",
              "      <td>3</td>\n",
              "      <td>3.0</td>\n",
              "      <td>159545</td>\n",
              "    </tr>\n",
              "    <tr>\n",
              "      <th>2</th>\n",
              "      <td>48</td>\n",
              "      <td>229</td>\n",
              "      <td>3</td>\n",
              "      <td>28</td>\n",
              "      <td>233</td>\n",
              "      <td>0.0</td>\n",
              "      <td>101</td>\n",
              "      <td>0.0</td>\n",
              "      <td>4.0</td>\n",
              "      <td>16.0</td>\n",
              "      <td>5.0</td>\n",
              "      <td>20.0</td>\n",
              "      <td>14.0</td>\n",
              "      <td>1.0</td>\n",
              "      <td>1.0</td>\n",
              "      <td>17.0</td>\n",
              "      <td>3</td>\n",
              "      <td>3.0</td>\n",
              "      <td>233145</td>\n",
              "    </tr>\n",
              "    <tr>\n",
              "      <th>3</th>\n",
              "      <td>200</td>\n",
              "      <td>6</td>\n",
              "      <td>2</td>\n",
              "      <td>35</td>\n",
              "      <td>679</td>\n",
              "      <td>1.0</td>\n",
              "      <td>101</td>\n",
              "      <td>1.0</td>\n",
              "      <td>1.0</td>\n",
              "      <td>3.0</td>\n",
              "      <td>2.0</td>\n",
              "      <td>36.0</td>\n",
              "      <td>9.0</td>\n",
              "      <td>2.0</td>\n",
              "      <td>1.0</td>\n",
              "      <td>14.0</td>\n",
              "      <td>3</td>\n",
              "      <td>3.0</td>\n",
              "      <td>108082</td>\n",
              "    </tr>\n",
              "    <tr>\n",
              "      <th>4</th>\n",
              "      <td>200</td>\n",
              "      <td>52</td>\n",
              "      <td>2</td>\n",
              "      <td>14</td>\n",
              "      <td>143</td>\n",
              "      <td>1.0</td>\n",
              "      <td>101</td>\n",
              "      <td>0.0</td>\n",
              "      <td>3.0</td>\n",
              "      <td>99.0</td>\n",
              "      <td>1.0</td>\n",
              "      <td>6001.0</td>\n",
              "      <td>13.0</td>\n",
              "      <td>1.0</td>\n",
              "      <td>1.0</td>\n",
              "      <td>15.0</td>\n",
              "      <td>1</td>\n",
              "      <td>3.0</td>\n",
              "      <td>151695</td>\n",
              "    </tr>\n",
              "  </tbody>\n",
              "</table>\n",
              "</div>\n",
              "      <button class=\"colab-df-convert\" onclick=\"convertToInteractive('df-a73218c4-9403-4846-b7f3-4874aeb0414d')\"\n",
              "              title=\"Convert this dataframe to an interactive table.\"\n",
              "              style=\"display:none;\">\n",
              "        \n",
              "  <svg xmlns=\"http://www.w3.org/2000/svg\" height=\"24px\"viewBox=\"0 0 24 24\"\n",
              "       width=\"24px\">\n",
              "    <path d=\"M0 0h24v24H0V0z\" fill=\"none\"/>\n",
              "    <path d=\"M18.56 5.44l.94 2.06.94-2.06 2.06-.94-2.06-.94-.94-2.06-.94 2.06-2.06.94zm-11 1L8.5 8.5l.94-2.06 2.06-.94-2.06-.94L8.5 2.5l-.94 2.06-2.06.94zm10 10l.94 2.06.94-2.06 2.06-.94-2.06-.94-.94-2.06-.94 2.06-2.06.94z\"/><path d=\"M17.41 7.96l-1.37-1.37c-.4-.4-.92-.59-1.43-.59-.52 0-1.04.2-1.43.59L10.3 9.45l-7.72 7.72c-.78.78-.78 2.05 0 2.83L4 21.41c.39.39.9.59 1.41.59.51 0 1.02-.2 1.41-.59l7.78-7.78 2.81-2.81c.8-.78.8-2.07 0-2.86zM5.41 20L4 18.59l7.72-7.72 1.47 1.35L5.41 20z\"/>\n",
              "  </svg>\n",
              "      </button>\n",
              "      \n",
              "  <style>\n",
              "    .colab-df-container {\n",
              "      display:flex;\n",
              "      flex-wrap:wrap;\n",
              "      gap: 12px;\n",
              "    }\n",
              "\n",
              "    .colab-df-convert {\n",
              "      background-color: #E8F0FE;\n",
              "      border: none;\n",
              "      border-radius: 50%;\n",
              "      cursor: pointer;\n",
              "      display: none;\n",
              "      fill: #1967D2;\n",
              "      height: 32px;\n",
              "      padding: 0 0 0 0;\n",
              "      width: 32px;\n",
              "    }\n",
              "\n",
              "    .colab-df-convert:hover {\n",
              "      background-color: #E2EBFA;\n",
              "      box-shadow: 0px 1px 2px rgba(60, 64, 67, 0.3), 0px 1px 3px 1px rgba(60, 64, 67, 0.15);\n",
              "      fill: #174EA6;\n",
              "    }\n",
              "\n",
              "    [theme=dark] .colab-df-convert {\n",
              "      background-color: #3B4455;\n",
              "      fill: #D2E3FC;\n",
              "    }\n",
              "\n",
              "    [theme=dark] .colab-df-convert:hover {\n",
              "      background-color: #434B5C;\n",
              "      box-shadow: 0px 1px 3px 1px rgba(0, 0, 0, 0.15);\n",
              "      filter: drop-shadow(0px 1px 2px rgba(0, 0, 0, 0.3));\n",
              "      fill: #FFFFFF;\n",
              "    }\n",
              "  </style>\n",
              "\n",
              "      <script>\n",
              "        const buttonEl =\n",
              "          document.querySelector('#df-a73218c4-9403-4846-b7f3-4874aeb0414d button.colab-df-convert');\n",
              "        buttonEl.style.display =\n",
              "          google.colab.kernel.accessAllowed ? 'block' : 'none';\n",
              "\n",
              "        async function convertToInteractive(key) {\n",
              "          const element = document.querySelector('#df-a73218c4-9403-4846-b7f3-4874aeb0414d');\n",
              "          const dataTable =\n",
              "            await google.colab.kernel.invokeFunction('convertToInteractive',\n",
              "                                                     [key], {});\n",
              "          if (!dataTable) return;\n",
              "\n",
              "          const docLinkHtml = 'Like what you see? Visit the ' +\n",
              "            '<a target=\"_blank\" href=https://colab.research.google.com/notebooks/data_table.ipynb>data table notebook</a>'\n",
              "            + ' to learn more about interactive tables.';\n",
              "          element.innerHTML = '';\n",
              "          dataTable['output_type'] = 'display_data';\n",
              "          await google.colab.output.renderOutput(dataTable, element);\n",
              "          const docLink = document.createElement('div');\n",
              "          docLink.innerHTML = docLinkHtml;\n",
              "          element.appendChild(docLink);\n",
              "        }\n",
              "      </script>\n",
              "    </div>\n",
              "  </div>\n",
              "  "
            ]
          },
          "metadata": {},
          "execution_count": 27
        }
      ]
    },
    {
      "cell_type": "code",
      "source": [
        "# Utilizando o modelo 2 para predizer, pois foi o que teve o melhor f1.\n",
        "\n",
        "y_final_pred = model_2.predict(X_aplic)"
      ],
      "metadata": {
        "id": "Xp6axpjX52SG"
      },
      "execution_count": null,
      "outputs": []
    },
    {
      "cell_type": "code",
      "source": [
        "# Criando DataFrame com predições.\n",
        "df_predict = pd.DataFrame(y_final_pred)\n",
        "df_predict = df_predict.rename(columns={0:'prediction'})\n",
        "\n",
        "# Salvando em arquivo csv para exportar.\n",
        "df_predict.to_csv('prediction.csv', index=False)"
      ],
      "metadata": {
        "id": "SOMvDQbOQZfO"
      },
      "execution_count": null,
      "outputs": []
    }
  ],
  "metadata": {
    "colab": {
      "collapsed_sections": [
        "jwKWaebMVfPr",
        "wE-SS6wJ0-SH",
        "WNzA8DQJUW7x",
        "5OdAsM9eVBXV",
        "yECoqDQ-bmym"
      ],
      "provenance": [],
      "toc_visible": true,
      "authorship_tag": "ABX9TyPA64s4ksDExcEvTcHhrUcv",
      "include_colab_link": true
    },
    "kernelspec": {
      "display_name": "Python 3",
      "name": "python3"
    },
    "language_info": {
      "name": "python"
    }
  },
  "nbformat": 4,
  "nbformat_minor": 0
}